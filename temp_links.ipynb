{
 "cells": [
  {
   "cell_type": "code",
   "execution_count": 184,
   "id": "846a2a0c-d01d-4f13-815e-2b7bb2d5a4bb",
   "metadata": {},
   "outputs": [],
   "source": [
    "import xmltodict, json\n",
    "import os\n",
    "import pandas as pd\n",
    "import networkx as nx"
   ]
  },
  {
   "cell_type": "code",
   "execution_count": 185,
   "id": "111bf9eb-3d2b-4bfa-8b39-fb09bf15f619",
   "metadata": {},
   "outputs": [],
   "source": [
    "pd.options.display.max_columns = None"
   ]
  },
  {
   "cell_type": "markdown",
   "id": "335b221e-92b6-4640-a73a-0aec325edd94",
   "metadata": {},
   "source": [
    "### Load data"
   ]
  },
  {
   "cell_type": "code",
   "execution_count": 186,
   "id": "c82e4ff0-a3ce-4524-b336-60cdcca7da1f",
   "metadata": {},
   "outputs": [],
   "source": [
    "# Change to path to the data\n",
    "# path = '/home/wt/Downloads/n2c2 2012/'\n",
    "path = 'data/i2b2/'\n",
    "training_data_path = path + 'merge_training'\n",
    "test_data_path = path + 'ground_truth/merged_xml'"
   ]
  },
  {
   "cell_type": "code",
   "execution_count": 187,
   "id": "eb9b8167-e69c-47e2-8ccb-5a868279b29a",
   "metadata": {},
   "outputs": [],
   "source": [
    "def data_loader(data_path):\n",
    "    data = {}\n",
    "    for filename in os.listdir(data_path):\n",
    "        if filename.endswith(\".xml\"): \n",
    "            f = (os.path.join(data_path, filename))\n",
    "#             print(f)\n",
    "            fb = open(f, \"rb\").read().decode(encoding=\"utf-8\")\n",
    "#     invalid character '&' https://github.com/martinblech/xmltodict/issues/277\n",
    "            fb = fb.replace('&', '&amp;')\n",
    "            dic = xmltodict.parse(fb, attr_prefix='')\n",
    "#     restore orginal character \"&\"\n",
    "            dic['ClinicalNarrativeTemporalAnnotation']['TEXT'] = dic['ClinicalNarrativeTemporalAnnotation']['TEXT'].replace('&amp;', '&')\n",
    "            data[filename] = (dic)\n",
    "    return data"
   ]
  },
  {
   "cell_type": "code",
   "execution_count": 188,
   "id": "72669941-7521-44b6-a9aa-9db7a9c4b148",
   "metadata": {},
   "outputs": [],
   "source": [
    "train_data = data_loader(training_data_path)\n",
    "test_data = data_loader(test_data_path)"
   ]
  },
  {
   "cell_type": "code",
   "execution_count": 191,
   "id": "cb4a14f9-7b60-4cfa-98ba-ac460a347b11",
   "metadata": {},
   "outputs": [
    {
     "name": "stdout",
     "output_type": "stream",
     "text": [
      "190 120\n"
     ]
    }
   ],
   "source": [
    "print(len(train_data), len(test_data))"
   ]
  },
  {
   "cell_type": "markdown",
   "id": "83eb490d-19b9-40b1-90ca-502d13348563",
   "metadata": {},
   "source": [
    "The EVENTs in clinical history need to be related to the Admission date, and the\n",
    "EVENTs in hospital course need to be related to the Discharge date.\n",
    "\n",
    "To avoid conflict, only one TLINK is allowed between\n",
    "the same pair of entities, e.g. EVENT A cannot be BEFORE and DURING EVENT B at the\n",
    "same time\n",
    "\n",
    "Clinical Events:  indicate which of the three categories (tests /problems /treatment ) \n",
    "\n",
    "sec_time_rel attribute records whether the EVENT happens before, after or\n",
    "whether it overlaps with the section creation time\n",
    "\n",
    "### Event attributes:\n",
    "#### Type\n",
    "six EVENT types to categorize different kinds of EVENTs: TEST, PROBLEM, TREATMENT, CLINICAL_DEPT, EVIDENTIAL and OCCURRENCE\n",
    "\n",
    "#### Polarity\n",
    "POS: Most of the EVENTs have POS polarity value, that is, the EVENT is not negated. \n",
    "\n",
    "NEG: If an EVENT is negated by words such as “not”, “deny”, and so on, its polarity is NEG.\n",
    "\n",
    "#### Modality\n",
    "The modality attribute is used to describe whether an EVENT actually occurred or not.\n",
    "\n",
    "Factual: This value is assigned to facts, i.e. EVENTs that actually happened (is happening, or will\n",
    "happen). For EVENTs with NEGATIVE polarity, this value corresponds to the situation when something did not happen (is not happening, or will not happen). The default value for the modality attribute is FACTUAL.\n",
    "\n",
    "CONDITIONAL: This value is assigned to EVENTs that are hypothesized to happen under certain conditions.\n",
    "\n",
    "POSSIBLE: This value is assigned to EVENTs that are hypothesized to have occurred.\n",
    "\n",
    "PROPOSED: The “PROPOSED” modality type is assigned to EVENTs that are proposed or suggested but may or\n",
    "may not actually happen. \n",
    "\n",
    "### Temporal Expressions TIMEX3:\n",
    "The type attribute has four possible values: DATE, TIME, DURATION and FREQUENCY.\n",
    "\n",
    "#### Mod\n",
    "1. “NA”: the default value, no relevant modifier is present;\n",
    "2. “MORE”, means “more than”, e.g. over 2 days (val = P2D, mod = MORE);\n",
    "3. “LESS”, means “less than”, e.g. almost 2 months (val = P2M, mod=LESS);\n",
    "4. “APPROX”, means “approximate”, e.g. nearly a week (val = P1W, mod=APPROX);\n",
    "5. “START”, describes the beginning of a period of time, e.g. Christmas morning,\n",
    "2005 (val= 2005-12-25, mod= START).\n",
    "6. “END”, describes the end of a period of time, e.g. late last year, (val = 2010, mod\n",
    "= END)\n",
    "7. “MIDDLE”, describes the middle of a period of time, e.g. mid-September 2001 (val\n",
    "=2001-09, mod= MIDDLE)\n",
    "\n",
    "### TLINK:\n",
    "explicit: The explicit attribute specifies whether the temporal relation is explicitly stated in the text, or is an inference made by the annotator.\n",
    "\n",
    "type: what kind of temporal relation exists between the two entities. In our annotation, we will use eight types of temporal relations: before, after, simultaneous, overlap, begun_by, ended_by, during, and before_overlap.\n",
    "\n",
    "SIMULTANEOUS and OVERLAP TLINK types will be merged because of the difficulty for annotators to distinguish them. \n",
    "\n",
    "BEFORE, ENDED_BY, and BEFORE_OVERLAP  --> BEFORE\n",
    "\n",
    "BEGUN_BY and AFTER --> AFTER\n",
    "\n",
    "SIMULTANEOUS, OVERLAP, and DURING --> OVERLAP\n",
    "\n",
    "\n",
    "where OVERLAP can have reversed links\n",
    "\n",
    "we do not need to mark duplicate relations. \n"
   ]
  },
  {
   "cell_type": "markdown",
   "id": "0db2af6a-0791-41b2-9067-aec13d99ed5c",
   "metadata": {},
   "source": [
    "## 1. Data distribution"
   ]
  },
  {
   "cell_type": "code",
   "execution_count": 192,
   "id": "62099a0b-26f2-4577-848c-16fe8aea1922",
   "metadata": {},
   "outputs": [],
   "source": [
    "# times.head()"
   ]
  },
  {
   "cell_type": "code",
   "execution_count": 214,
   "id": "9346362f-df0f-4248-87f1-263037cb7611",
   "metadata": {},
   "outputs": [
    {
     "data": {
      "text/html": [
       "<div>\n",
       "<style scoped>\n",
       "    .dataframe tbody tr th:only-of-type {\n",
       "        vertical-align: middle;\n",
       "    }\n",
       "\n",
       "    .dataframe tbody tr th {\n",
       "        vertical-align: top;\n",
       "    }\n",
       "\n",
       "    .dataframe thead th {\n",
       "        text-align: right;\n",
       "    }\n",
       "</style>\n",
       "<table border=\"1\" class=\"dataframe\">\n",
       "  <thead>\n",
       "    <tr style=\"text-align: right;\">\n",
       "      <th></th>\n",
       "      <th>id</th>\n",
       "      <th>start</th>\n",
       "      <th>end</th>\n",
       "      <th>text</th>\n",
       "      <th>modality</th>\n",
       "      <th>polarity</th>\n",
       "      <th>type</th>\n",
       "    </tr>\n",
       "  </thead>\n",
       "  <tbody>\n",
       "    <tr>\n",
       "      <th>0</th>\n",
       "      <td>E0</td>\n",
       "      <td>1</td>\n",
       "      <td>10</td>\n",
       "      <td>ADMISSION</td>\n",
       "      <td>FACTUAL</td>\n",
       "      <td>POS</td>\n",
       "      <td>OCCURRENCE</td>\n",
       "    </tr>\n",
       "    <tr>\n",
       "      <th>1</th>\n",
       "      <td>E16</td>\n",
       "      <td>1005</td>\n",
       "      <td>1016</td>\n",
       "      <td>hematemesis</td>\n",
       "      <td>FACTUAL</td>\n",
       "      <td>NEG</td>\n",
       "      <td>PROBLEM</td>\n",
       "    </tr>\n",
       "    <tr>\n",
       "      <th>2</th>\n",
       "      <td>E17</td>\n",
       "      <td>1020</td>\n",
       "      <td>1026</td>\n",
       "      <td>melena</td>\n",
       "      <td>FACTUAL</td>\n",
       "      <td>NEG</td>\n",
       "      <td>PROBLEM</td>\n",
       "    </tr>\n",
       "    <tr>\n",
       "      <th>3</th>\n",
       "      <td>E45</td>\n",
       "      <td>1063</td>\n",
       "      <td>1071</td>\n",
       "      <td>admitted</td>\n",
       "      <td>FACTUAL</td>\n",
       "      <td>POS</td>\n",
       "      <td>OCCURRENCE</td>\n",
       "    </tr>\n",
       "    <tr>\n",
       "      <th>4</th>\n",
       "      <td>E46</td>\n",
       "      <td>1075</td>\n",
       "      <td>1087</td>\n",
       "      <td>the Hospital</td>\n",
       "      <td>FACTUAL</td>\n",
       "      <td>POS</td>\n",
       "      <td>CLINICAL_DEPT</td>\n",
       "    </tr>\n",
       "  </tbody>\n",
       "</table>\n",
       "</div>"
      ],
      "text/plain": [
       "    id start   end          text modality polarity           type\n",
       "0   E0     1    10     ADMISSION  FACTUAL      POS     OCCURRENCE\n",
       "1  E16  1005  1016   hematemesis  FACTUAL      NEG        PROBLEM\n",
       "2  E17  1020  1026        melena  FACTUAL      NEG        PROBLEM\n",
       "3  E45  1063  1071      admitted  FACTUAL      POS     OCCURRENCE\n",
       "4  E46  1075  1087  the Hospital  FACTUAL      POS  CLINICAL_DEPT"
      ]
     },
     "execution_count": 214,
     "metadata": {},
     "output_type": "execute_result"
    }
   ],
   "source": [
    "events.head()"
   ]
  },
  {
   "cell_type": "code",
   "execution_count": 194,
   "id": "3adafda3-683c-447e-8212-c1419008d69b",
   "metadata": {},
   "outputs": [],
   "source": [
    "# links.head()"
   ]
  },
  {
   "cell_type": "code",
   "execution_count": 195,
   "id": "c62b701d-8955-49b0-ab37-b16e30d082c4",
   "metadata": {},
   "outputs": [],
   "source": [
    "# links = links.merge(events[['id', 'start', 'end']], left_on='fromID', right_on='id', suffixes=('_link', '_event'))\n",
    "# links = links.merge(times[['id', 'start', 'end']], left_on='fromID', right_on='id', suffixes=('_link', '_time'))"
   ]
  },
  {
   "cell_type": "code",
   "execution_count": 196,
   "id": "433502bd-6d65-41fd-ab30-1ed9ddd42013",
   "metadata": {},
   "outputs": [],
   "source": [
    "# links"
   ]
  },
  {
   "cell_type": "code",
   "execution_count": null,
   "id": "30bfa8e7-1f79-47d5-9102-09805d73b777",
   "metadata": {},
   "outputs": [],
   "source": [
    "def count_sentence_link_span():\n",
    "    "
   ]
  },
  {
   "cell_type": "code",
   "execution_count": 215,
   "id": "c19105c6-e871-4d69-93e9-d763a45b26ee",
   "metadata": {},
   "outputs": [],
   "source": [
    "data = train_data\n",
    "link_df = []\n",
    "for doc_id in list(data.keys()):\n",
    "    text = data[doc_id]['ClinicalNarrativeTemporalAnnotation']['TEXT']\n",
    "    # Only links between events and times\n",
    "    links = pd.DataFrame(data[doc_id]['ClinicalNarrativeTemporalAnnotation']['TAGS']['TLINK'])\n",
    "\n",
    "    times = pd.DataFrame(data[doc_id]['ClinicalNarrativeTemporalAnnotation']['TAGS']['TIMEX3'])\n",
    "    events = pd.DataFrame(data[doc_id]['ClinicalNarrativeTemporalAnnotation']['TAGS']['EVENT'])\n",
    "\n",
    "    starts = dict(zip(events['id'], events['start'])) | dict(zip(times['id'], times['start']))\n",
    "    ends = dict(zip(events['id'], events['end'])) | dict(zip(times['id'], times['end']))\n",
    "    \n",
    "    # All links\n",
    "    links = links.loc[links['id'].str.lower().str.contains('sectime')==False]\n",
    "    # print(links.shape)\n",
    "\n",
    "    \n",
    "    \n",
    "    link_df.append(links)"
   ]
  },
  {
   "cell_type": "code",
   "execution_count": 216,
   "id": "88548b0a-7214-437f-987f-bbe2c40923d1",
   "metadata": {},
   "outputs": [],
   "source": [
    "link_df = pd.concat(link_df, axis=0)"
   ]
  },
  {
   "cell_type": "code",
   "execution_count": 211,
   "id": "b3c31936-6351-43ab-b991-59291b1f7c99",
   "metadata": {},
   "outputs": [
    {
     "data": {
      "text/plain": [
       "(17716, 6)"
      ]
     },
     "execution_count": 211,
     "metadata": {},
     "output_type": "execute_result"
    }
   ],
   "source": [
    "link_df.shape"
   ]
  },
  {
   "cell_type": "code",
   "execution_count": 212,
   "id": "03da3641-1745-47e2-a19b-2ec95ba411c8",
   "metadata": {},
   "outputs": [],
   "source": [
    "# link_df.head()"
   ]
  },
  {
   "cell_type": "code",
   "execution_count": 213,
   "id": "f213a5c8-6015-41bc-9226-fef118f95d1b",
   "metadata": {},
   "outputs": [
    {
     "data": {
      "text/plain": [
       "type\n",
       "OVERLAP    11479\n",
       "BEFORE      3568\n",
       "AFTER       2589\n",
       "              80\n",
       "Name: count, dtype: int64"
      ]
     },
     "execution_count": 213,
     "metadata": {},
     "output_type": "execute_result"
    }
   ],
   "source": [
    "link_df['type'].value_counts()"
   ]
  },
  {
   "cell_type": "markdown",
   "id": "8c22d442-2f0f-4be7-8f35-439f75b17912",
   "metadata": {},
   "source": [
    "**NOTE: TODO combine BEFORE and AFTER to reduce data imbalance**"
   ]
  },
  {
   "cell_type": "code",
   "execution_count": null,
   "id": "9d65f274-abbf-4cd5-a9dd-44e1823dcc80",
   "metadata": {},
   "outputs": [],
   "source": []
  },
  {
   "cell_type": "markdown",
   "id": "10d7b93f-288e-4640-ba0b-e986a2962cea",
   "metadata": {},
   "source": [
    "## 2. Timeline network"
   ]
  },
  {
   "cell_type": "code",
   "execution_count": 126,
   "id": "ef15f2b1-9762-441d-92d6-5bab9e9c47a8",
   "metadata": {},
   "outputs": [],
   "source": [
    "# mask = links['type'] == 'AFTER'\n",
    "# links[mask].head()\n",
    "# links.loc[mask, ['fromID', 'fromText', 'toID', 'toText']] = links.loc[mask, ['toID', 'toText', 'fromID', 'fromText']].values\n",
    "# links.loc[mask, 'type'] = 'BEFORE'\n",
    "# links[mask].head()"
   ]
  },
  {
   "cell_type": "code",
   "execution_count": 128,
   "id": "b8f85e9d-789f-4cf8-8506-6daabc29233d",
   "metadata": {},
   "outputs": [],
   "source": [
    "# links"
   ]
  },
  {
   "cell_type": "code",
   "execution_count": 218,
   "id": "cae054e8-9044-49fc-a775-721f10beebd1",
   "metadata": {},
   "outputs": [],
   "source": [
    "data = train_data\n",
    "doc_id = '36.xml'\n",
    "# for doc_id in list(data.keys())[:1]:\n",
    "text = data[doc_id]['ClinicalNarrativeTemporalAnnotation']['TEXT']\n",
    "events = pd.DataFrame(data[doc_id]['ClinicalNarrativeTemporalAnnotation']['TAGS']['EVENT'])\n",
    "# FILTER 1: only use events related to medical concepts\n",
    "events = events.loc[events['type'].isin(['PROBLEM', 'TEST', 'TREATMENT'])]\n",
    "event_types = dict(zip(events['id'], events['type']))\n",
    "\n",
    "# Remove duplicated admission and discharge time.\n",
    "# adm_dis = pd.DataFrame(data[doc_id]['ClinicalNarrativeTemporalAnnotation']['TAGS']['SECTIME'])\n",
    "times = pd.DataFrame(data[doc_id]['ClinicalNarrativeTemporalAnnotation']['TAGS']['TIMEX3'])\n",
    "time_types = dict(zip(times['id'], times['type']))\n",
    "\n",
    "nodes_keep = list(events['id']) + list(times['id'])\n",
    "\n",
    "links = pd.DataFrame(data[doc_id]['ClinicalNarrativeTemporalAnnotation']['TAGS']['TLINK'])\n",
    "# FILTER 2: Exclude sectime links\n",
    "links = links.loc[links['id'].str.lower().str.contains('sectime')==False]\n",
    "\n",
    "# Normalize AFTER and BEFORE relations\n",
    "mask = links['type'] == 'AFTER'\n",
    "links.loc[mask, ['fromID', 'fromText', 'toID', 'toText']] = links.loc[mask, ['toID', 'toText', 'fromID', 'fromText']].values\n",
    "links.loc[mask, 'type'] = 'BEFORE'\n",
    "links = links.drop_duplicates(subset=['fromID', 'fromText', 'toID', 'toText', 'type'], keep='last')\n",
    "\n",
    "\n",
    "# print(links)\n",
    "G = nx.from_pandas_edgelist(links[['fromID', 'toID', 'type']], source='fromID', target='toID', edge_attr=True, create_using=nx.DiGraph())\n",
    "source_nodes = dict(zip(links['fromID'], links['fromText']))\n",
    "target_nodes = dict(zip(links['toID'], links['toText']))\n",
    "nx.set_node_attributes(G, source_nodes|target_nodes, 'text')\n",
    "nx.set_node_attributes(G, event_types|time_types, 'type')\n",
    "# only keep nodes of interest\n",
    "# FILTER 3: only subgraph\n",
    "# G = G.subgraph(nodes_keep).copy()\n",
    "\n",
    "# clear reverse links and reduce redundent nodes; \n",
    "# There are no many duplicated links"
   ]
  },
  {
   "cell_type": "code",
   "execution_count": 219,
   "id": "e231931a-178d-4362-976f-fe2cf55c9e3e",
   "metadata": {},
   "outputs": [],
   "source": [
    "# links\n",
    "# events\n",
    "# times"
   ]
  },
  {
   "cell_type": "code",
   "execution_count": 220,
   "id": "82169ba9-a22f-4222-861d-eab04b6281da",
   "metadata": {},
   "outputs": [
    {
     "name": "stdout",
     "output_type": "stream",
     "text": [
      "Graph with 189 nodes and 349 edges\n"
     ]
    }
   ],
   "source": [
    "print(f\"Graph with {G.number_of_nodes()} nodes and {G.number_of_edges()} edges\")"
   ]
  },
  {
   "cell_type": "code",
   "execution_count": 149,
   "id": "a2282640-67e0-4718-ba7b-041442ab0fe9",
   "metadata": {},
   "outputs": [],
   "source": [
    "# Graph with 189 nodes and 349 edges\n",
    "# nx.write_graphml(G, \"temp_graph.graphml\")\n",
    "\n",
    "# Graph with 149 nodes and 235 edges\n",
    "nx.write_graphml(G, \"temp_graph_clinical_event.graphml\")\n",
    "\n",
    "# Graph with 148 nodes and 104 edges\n",
    "# nx.write_graphml(G, \"temp_graph_clinical_event_tlink_only.graphml\")"
   ]
  },
  {
   "cell_type": "code",
   "execution_count": 88,
   "id": "d0e0c8c7-fdc7-4c2e-af22-2fdfff220914",
   "metadata": {},
   "outputs": [],
   "source": [
    "# Example:\n",
    "# She will be discharged on Lisinopril with further titration as an outpatient .\n",
    "# <TLINK id=\"TL121\" fromID=\"E142\" fromText=\"Lisinopril\" toID=\"E141\" toText=\"discharged\" type=\"BEFORE\" />\n",
    "# <TLINK id=\"TL122\" fromID=\"E142\" fromText=\"Lisinopril\" toID=\"E143\" toText=\"further titration\" type=\"BEFORE\" />"
   ]
  },
  {
   "cell_type": "markdown",
   "id": "53768fe3-2f90-4ebe-8483-0e7a1df81935",
   "metadata": {},
   "source": [
    "### When some non-clinical nodes removed, some time nodes are isolated. \n",
    "\n",
    "How to align: \n",
    "\n",
    "Path: inducible ischemia -> subsequent dobutamine MIBI -> a poor study -> 02/08/2002\n",
    "\n",
    "Edges: BEFORE -> AFTER -> BEFORE"
   ]
  },
  {
   "cell_type": "code",
   "execution_count": 223,
   "id": "4db8ab25-96a9-4365-8835-256eb8dcf75b",
   "metadata": {},
   "outputs": [],
   "source": [
    "# print(\"All paths in the graph with labels:\")\n",
    "# for source in G.nodes:\n",
    "#     for target in G.nodes:\n",
    "#         if source != target:\n",
    "#             # Get all simple paths\n",
    "#             paths = list(nx.all_simple_paths(G, source=source, target=target))\n",
    "#             for path in paths:\n",
    "#                 # Convert node IDs to their labels\n",
    "#                 node_labels = [G.nodes[node][\"text\"] +' '+ G.nodes[node][\"type\"] for node in path]\n",
    "\n",
    "#                 # Find edges along the path and get their labels\n",
    "#                 edge_labels = [\n",
    "#                     G.edges[path[i], path[i + 1]][\"type\"]\n",
    "#                     for i in range(len(path) - 1)\n",
    "#                 ]\n",
    "\n",
    "#                 # Print the path with labels\n",
    "#                 print(f\"Path: {' -> '.join(node_labels)}\")\n",
    "#                 print(f\"Edges: {' -> '.join(edge_labels)}\")\n",
    "#                 print()"
   ]
  },
  {
   "cell_type": "code",
   "execution_count": null,
   "id": "1771a3a7-ff53-4b5c-9fd3-c86cff1469e3",
   "metadata": {},
   "outputs": [],
   "source": [
    "cut_edges = nx.minimum_edge_cut(G)"
   ]
  },
  {
   "cell_type": "markdown",
   "id": "a57a2a4a-6d62-4532-a3c7-3a653cc0fd96",
   "metadata": {},
   "source": [
    "## LLM generation"
   ]
  },
  {
   "cell_type": "code",
   "execution_count": 155,
   "id": "2eda49f8-ba35-4a2a-a037-403b8f898792",
   "metadata": {},
   "outputs": [
    {
     "data": {
      "text/plain": [
       "'sweating'"
      ]
     },
     "execution_count": 155,
     "metadata": {},
     "output_type": "execute_result"
    }
   ],
   "source": [
    "text[1041-1:1049-1]"
   ]
  },
  {
   "cell_type": "code",
   "execution_count": 61,
   "id": "d42323ed-55e7-41d5-9620-907c8a40e27d",
   "metadata": {},
   "outputs": [],
   "source": [
    "from openai import OpenAI\n",
    "from lmformatenforcer import JsonSchemaParser\n",
    "from pydantic import BaseModel\n",
    "import re, json, os\n",
    "from typing import Optional, Type, TypeVar"
   ]
  },
  {
   "cell_type": "code",
   "execution_count": 62,
   "id": "8ca83730-0d19-4c9e-9100-c0696797c582",
   "metadata": {},
   "outputs": [],
   "source": [
    "# Modify OpenAI's API key and API base to use vLLM's API server.\n",
    "openai_api_key = \"EMPTY\"\n",
    "openai_api_base = \"http://host.docker.internal:8000/v1\"\n",
    "client = OpenAI(\n",
    "    api_key=openai_api_key,\n",
    "    base_url=openai_api_base,\n",
    ")"
   ]
  },
  {
   "cell_type": "code",
   "execution_count": 65,
   "id": "dbf01955-fe32-4abd-b900-8e23234ab755",
   "metadata": {},
   "outputs": [
    {
     "name": "stdout",
     "output_type": "stream",
     "text": [
      "Chat response: <think>\n",
      "Alright, so I need to extract the PROBLEM, TEST, and TREATMENT along with their time estimates from the provided medical text. Let's break down the text step by step.\n",
      "\n",
      "First, I'll look for the Admission Date, which is given as 02/01/2002. That will mark the start of the patient's hospital stay.\n",
      "\n",
      "Next, I'll scan through the text to find the problems. The patient is a 77-year-old woman with a history of obesity and hypertension. Her main symptoms include:\n",
      "\n",
      "1. Increased shortness of breath for about 5 days.\n",
      "2. Progressive dyspnea over the past 3 years.\n",
      "3. Dry cough but no fever or chills.\n",
      "4. Orthopnea, especially when getting up.\n",
      "5. Lower extremity edema for several years, leading to cellulitis episodes.\n",
      "6. slept in a chair right for 2.5 years due to osteoarthritis.\n",
      "7. Lower extremity non-invasive studies showed a small right common femoral clot.\n",
      "8. Pulmonary hypertension found on echocardiogram.\n",
      "\n",
      "Each of these is a PROBLEM. They likely happened over the course of her hospital stay, so the time frame would be from admission to discharge.\n",
      "\n",
      "Now, moving on to the TESTs. The patient has undergone several diagnostic procedures based on her symptoms:\n",
      "\n",
      "1. Blood tests, including enzymes for myocardial infarction.\n",
      "2. Diuretics like Lasix were used, and lipid panel was conducted.\n",
      "3. Cardiac evaluation with TTE, Echocardiogram, and dobutamine MIBI.\n",
      "4. Pulmonary function tests and BIPAP attempt.\n",
      "5. Imaging studies like chest CT, echocardiogram.\n",
      "6. Anticoagulation tests with INR, starting with heparin and switching to Lovex.\n",
      "\n",
      "Each of these tests was performed on different dates. For example, the bloodwork and diuretics started on admission, while the Echocardiogram was done a few days later. The dobutamine test and subsequent echocardiogram were on discharge day.\n",
      "\n",
      "For treatments, the patient received multiple medications and procedures:\n",
      "\n",
      "1. Lasix for edema.\n",
      "2. Cefazolin/Keflex for cellulitis.\n",
      "3. Accupressure with hydrochlorothiazide.\n",
      "4. Atenolol and aspirin as needed.\n",
      "5. Lisinopril and Lisetti for blood pressure control.\n",
      "6. BIPAP was attempted but not successful.\n",
      "7. Home oxygen continued with nasal cannula.\n",
      "8. Pulmonary function tests as outpatients.\n",
      "9. Anticoagulation with heparin, Lovex, and monitoring INR.\n",
      "10. Management like walking with a cane and avoiding heavy lifting.\n",
      "\n",
      "I'll assign time frames based on the sequence of events. For example, treatments like Lasix and Keflex started immediately, while others like Lovex received on discharge. I should note when each treatment was initiated, typically the same day or the following day.\n",
      "\n",
      "I should also make sure to list each problem, test, and treatment with their respective start and end dates if possible, unless only the start date is given. Since the discharge date is the end, all ongoing tests and treatments would end on that date.\n",
      "\n",
      "I need to organize all this neatly, separating PROBLEM, TEST, TREATMENT with their start dates, and the end date where applicable. Each major event should have a clear time estimate, indicating when it was administered or when the patient left the hospital.\n",
      "\n",
      "Let me double-check the timeline to ensure I haven't missed any key events. Starting from admission, the patient was admitted with shortness of breath symptoms that started 5 days prior. The tests were done progressively, starting with bloodwork, then moving to cardiology evaluations, pulmonary assessments, and so on. Treatments included medications, catheterization procedures, and continued care instructions.\n",
      "\n",
      "I think I've covered all the major points. Now, it's time to present this in a clear, structured format with PROBLEM, TEST, TREATMENT, and their respective dates.\n",
      "</think>\n",
      "\n",
      "### Medical Case Summary\n",
      "\n",
      "**Admission Date:** 02/01/2002  \n",
      "**Discharge Date:** 02/08/2002  \n",
      "\n",
      "---\n",
      "\n",
      "**Problems:**\n",
      "\n",
      "1. **Increased Shortness of Breath:**\n",
      "   - **From:** 5 days prior to admission.\n",
      "   - **To:** Discharge (02/08/2002)\n",
      "   - **Time Frame:** 7 days\n",
      "\n",
      "2. **Progressive Dyspnea:**\n",
      "   - **From:** 2-3 years prior.\n",
      "   - **To:** Discharge (02/08/2002)\n",
      "   - **Time Frame:** Several years (specifically noted as prior to admission)\n",
      "\n",
      "3. **Dry Cough:**\n",
      "   - **From:** Occasional episodes.\n",
      "   - **To:** None (discharge)\n",
      "   - **Time Frame:** Ongoing\n",
      "\n",
      "4. **Orthopnea:**\n",
      "   - **Ongoing:** Disposable walking with a cane and walker.\n",
      "\n",
      "5. **Lower Extremity Edema:**\n",
      "   - **From:** Multiple episodes for several years.\n",
      "   - **Time Frame:** Progressive for years leading to admission.\n",
      "\n",
      "6. **Lower Extity Non-Invasive Studies:**\n",
      "   - **Positive:** Small right common femoral clot (closed on discharge)\n",
      "   - **Time Frame:** Ongoing\n",
      "\n",
      "---\n",
      "\n",
      "**Tests:**\n",
      "\n",
      "1. **Blood Tests:**\n",
      "   - **Myocardial Infarction Enzymes:**\n",
      "   - **D-dimer:** Evaluated on admission.\n",
      "\n",
      "2. **Diuretic Use:**\n",
      "   - **Lasix 20 mg:** Administered on admission.\n",
      "\n",
      "3. **Lipid Panel:**\n",
      "   - **Total Cholesterol:** 110 mg/dL\n",
      "   - **Triglycerides:** 59 mg/dL\n",
      "   - **HDL:** 32 mg/dL\n",
      "   - **LDL:** 64 mg/dL\n",
      "   - **Administered:** On admission.\n",
      "\n",
      "4. **Echocardiogram:**\n",
      "   - **Intr-Atrial Shunt:**\n",
      "   - **Pulmonary Hypertension:**\n",
      "   - **Bipolar Arrhythmias:**\n",
      "   - **Pulmonary artery pressures:** 44 mmHg\n",
      "   - **Administered:** Several days after admission.\n",
      "\n",
      "5. **Dobutamine MIBI:**\n",
      "   - **Positive:** Indicative of Después defectos envelte wall and basal inferior wall.\n",
      "\n",
      "6. **Chest CT:**\n",
      "   - **Normal:** Poor study done, no pulmonary embolus detected.\n",
      "\n",
      "7. **BIPAP Attempt:**\n",
      "   - **Failed:** Patient did not tolerate 3 nights BIPAP.\n",
      "\n",
      "8. **Anticoagulation:**\n",
      "   - **Heparin:** Maintained during stay.\n",
      "   - **Lovenox:** Starting from 7.5 mg q day prior to discharge.\n",
      "\n",
      "9. **Catheterization:**\n",
      "   - **Cardiogenic hispa:**\n",
      "   - **Pulmonary Hypertension (MEKi):**\n",
      "\n",
      "10. **Home Oxygen Therapy:**\n",
      "    - **Hydrochlorothiazide 50 mg:** Common daytime use.\n",
      "\n",
      "---\n",
      "\n",
      "**Treatments:**\n",
      "\n",
      "1. **Fluid Therapy:**\n",
      "   - **Lasix 20 mg:** IV given on admission.\n",
      "   - **Subsequent Lasix:** As needed.\n",
      "\n",
      "2. **Antibiotics:**\n",
      "   - **Cefazolin:** Changed to Keflex for cellulitis.\n",
      "   - **Keflex:** IV given on day of cellulitis.\n",
      "\n",
      "3. **Anticoagulation Therapy:**\n",
      "   - **Heparin Maintenance:**\n",
      "   - **Lovenox Administration:** Increased dose prior to discharge.\n",
      "   - **INR Goal:** 1.8 on admission, targeted 2.0-3.0 on discharge.\n",
      "\n",
      "4. **Pulmonary Treatment:**\n",
      "   - **BIPAP:** Not successful.\n",
      "   - **Pulmonary Function Studies:**\n",
      "     - **Order:** As outpatient.\n",
      "\n",
      "5. **Hypertensive Control:**\n",
      "   - **Captopril:** titrated to 50 mg orally.\n",
      "   - **Accupressure with Hydrochlorothiazide:** IV given on discharge.\n",
      "\n",
      "6. **Walking and Canonical Care:**\n",
      "   - **Cane Use:** Governments.description\n",
      "   - **Avoidance of Heavy Lifting:**\n",
      "\n",
      "7. **Medications:**\n",
      "   - **Atenolol:** stopped on admission but may be restarted.\n",
      "   - **Aspirin:** Starting on discharge.\n",
      "\n",
      "8. **Proceedings:**\n",
      "   - ** referral to Pulmonary Team:**\n",
      "   - **\timg A.B.P.:** Showed pH drop. Jalape俱乐部.\n",
      "   - **Hyperemesis:** As ongoing.\n",
      "\n",
      "9. **Home Monitoring:**\n",
      "   - **Oxygen:** 2 liters nasal cannula.\n",
      "   - **Lipid Control:** Continued post-discharge.\n",
      "\n",
      "---\n",
      "\n",
      "**Summary:**\n",
      "\n",
      "The patient was discharged to outpatient management with ongoing follow-up for blood pressure control, pulmonary function tests, and management of cellulitis. Relevant tests were conducted over a period of several days to weeks, with continuous monitoring of her progress.\n"
     ]
    }
   ],
   "source": [
    "chat_response = client.chat.completions.create(\n",
    "    model = 'deepseek-ai/DeepSeek-R1-Distill-Qwen-7B',\n",
    "    messages=[\n",
    "        {\"role\": \"system\", \"content\": \"You are a helpful assistant.\"},\n",
    "        {\"role\": \"user\", \"content\": \"Extract clinical 'PROBLEM', 'TEST', 'TREATMENT' from the text and estimate the time of each event happened.\" + text},\n",
    "    ]\n",
    ")\n",
    "print(\"Chat response:\", chat_response.choices[0].message.content)"
   ]
  },
  {
   "cell_type": "code",
   "execution_count": 36,
   "id": "b9e894ab-8425-4c90-87a8-0d9f5b3da8c2",
   "metadata": {},
   "outputs": [],
   "source": []
  },
  {
   "cell_type": "code",
   "execution_count": null,
   "id": "fad49573-6101-4684-b68a-0ec91fdbdb71",
   "metadata": {},
   "outputs": [],
   "source": []
  },
  {
   "cell_type": "code",
   "execution_count": null,
   "id": "621b3594-4245-4db9-8fb2-ba582cb58a2e",
   "metadata": {},
   "outputs": [],
   "source": []
  }
 ],
 "metadata": {
  "kernelspec": {
   "display_name": "cuhk",
   "language": "python",
   "name": "cuhk"
  },
  "language_info": {
   "codemirror_mode": {
    "name": "ipython",
    "version": 3
   },
   "file_extension": ".py",
   "mimetype": "text/x-python",
   "name": "python",
   "nbconvert_exporter": "python",
   "pygments_lexer": "ipython3",
   "version": "3.10.16"
  }
 },
 "nbformat": 4,
 "nbformat_minor": 5
}
