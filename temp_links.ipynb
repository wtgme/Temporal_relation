{
 "cells": [
  {
   "cell_type": "code",
   "execution_count": 1,
   "id": "5b45fbb9-036a-44d1-943d-29420f3dfa52",
   "metadata": {},
   "outputs": [],
   "source": [
    "# %pip install xmltodict"
   ]
  },
  {
   "cell_type": "markdown",
   "id": "643700ac-4a78-4cc0-9725-9734969550f5",
   "metadata": {},
   "source": [
    "NOTES: \n",
    "- __Task__: generate a dataset to test LLM for temporal relation extraction and reasoning.\n",
    "- __Ideal outcome__: Input a text, the model can generate a timeline to show the clincial events over time.\n",
    "- __Information in dataset__:\n",
    "    - Each document in the data has at least two key dates, admission and discharge dates.\n",
    "    - Two types of tempral relations: implicit relations between events and explicit relations (i.e., at least one event has known date) between events and section_time.\n",
    "    - The key idea is to combine implicit and explicit relatioins to infer a timeline of clinical events, such as 'PROBLEM', 'TEST', 'TREATMENT', like:\n",
    "        1. 2020 Jan: Problem appears\n",
    "        2. 2020 Feb. Test\n",
    "        3. 2020 Feb: admission\n",
    "        4. 2020 March. Diagnosis\n",
    "        5. 2020 March. Treatment\n",
    "    - Conceptual diagram: https://excalidraw.com/#json=d_zqjvbhTqdiIZvLhk-fc,0FwYqte6gJn8cW36Cbm3mQ\n",
    "    - By default, all events in \"History of Present Illness\" should happen before events in the rest sections.\n",
    "- __Data curation__: split admission and discharge secttime links. Each section would have two types of timelins:\n",
    "    - Coarse grained timeline: organize events before, overlap and after the admission/dishcarge date.\n",
    "    - Fine grained timeline: organize events within each section of \"before\"/\"after\"/\"overlap\". "
   ]
  },
  {
   "cell_type": "code",
   "execution_count": 2,
   "id": "635348d0-9344-44f4-9540-5d8e121ab0f0",
   "metadata": {},
   "outputs": [],
   "source": [
    "# HISTORY OF PRESENT ILLNESS :\n",
    "# Saujule Study is a 77-year-old woman with a history of obesity and hypertension who presents with increased shortness of breath x 5 days .\n",
    "# Her shortness of breath has been progressive over the last 2-3 years .\n",
    "# She has an associated dry cough but no fevers , chills , or leg pain .\n",
    "# She has dyspnea on exertion .\n",
    "# She ambulates with walker and a cane secondary to osteoarthritis .\n",
    "# She becomes short of breath just by getting up from her chair and can only walk 2-3 steps on a flat surface .\n",
    "# She feels light headed when getting up .\n",
    "# Her shortness of breath and dyspnea on exertion has been progressive for the past several years .\n",
    "# It has not been sudden or acute .\n",
    "# She sleeps in a chair up right for the last 2 1/2 years secondary to osteoarthritis .\n",
    "# She has orthopnea as well but noparoxysmal nocturnal dyspnea .\n",
    "# She occasionally feels chest twinges which are nonradiating but are sharp .\n",
    "# They last a few seconds on the left side and are not associated with sweating , nausea , vomiting or syncope .\n",
    "# She has had lower extremity edema for thelast several years with multiple episodes of cellulitis .\n",
    "# Her lower extremity edema has increased for the several weeks prior to admission secondary to an inability to elevate her legs due to a broken chair at home .\n",
    "# She denies any pleural chest pain ."
   ]
  },
  {
   "cell_type": "code",
   "execution_count": 2,
   "id": "846a2a0c-d01d-4f13-815e-2b7bb2d5a4bb",
   "metadata": {},
   "outputs": [],
   "source": [
    "import xmltodict, json\n",
    "import os\n",
    "import pandas as pd\n",
    "import networkx as nx\n",
    "import numpy as np\n",
    "from matplotlib import pyplot as plt\n",
    "from itertools import combinations\n",
    "import json"
   ]
  },
  {
   "cell_type": "code",
   "execution_count": 3,
   "id": "111bf9eb-3d2b-4bfa-8b39-fb09bf15f619",
   "metadata": {},
   "outputs": [],
   "source": [
    "pd.options.display.max_columns = None"
   ]
  },
  {
   "cell_type": "markdown",
   "id": "335b221e-92b6-4640-a73a-0aec325edd94",
   "metadata": {},
   "source": [
    "### Load data"
   ]
  },
  {
   "cell_type": "code",
   "execution_count": 4,
   "id": "c82e4ff0-a3ce-4524-b336-60cdcca7da1f",
   "metadata": {},
   "outputs": [],
   "source": [
    "# Change to path to the data\n",
    "# path = '/home/wt/Downloads/n2c2 2012/'\n",
    "path = 'data/i2b2/'\n",
    "training_data_path = path + 'merge_training'\n",
    "test_data_path = path + 'ground_truth/merged_xml'"
   ]
  },
  {
   "cell_type": "code",
   "execution_count": 5,
   "id": "eb9b8167-e69c-47e2-8ccb-5a868279b29a",
   "metadata": {},
   "outputs": [],
   "source": [
    "def data_loader(data_path):\n",
    "    data = {}\n",
    "    for filename in os.listdir(data_path):\n",
    "        if filename.endswith(\".xml\"): \n",
    "            f = (os.path.join(data_path, filename))\n",
    "#             print(f)\n",
    "            fb = open(f, \"rb\").read().decode(encoding=\"utf-8\")\n",
    "#     invalid character '&' https://github.com/martinblech/xmltodict/issues/277\n",
    "            fb = fb.replace('&', '&amp;')\n",
    "            dic = xmltodict.parse(fb, attr_prefix='')\n",
    "#     restore orginal character \"&\"\n",
    "            dic['ClinicalNarrativeTemporalAnnotation']['TEXT'] = dic['ClinicalNarrativeTemporalAnnotation']['TEXT'].replace('&amp;', '&')\n",
    "            data[filename] = (dic)\n",
    "    return data"
   ]
  },
  {
   "cell_type": "code",
   "execution_count": 6,
   "id": "72669941-7521-44b6-a9aa-9db7a9c4b148",
   "metadata": {},
   "outputs": [],
   "source": [
    "train_data = data_loader(training_data_path)\n",
    "test_data = data_loader(test_data_path)"
   ]
  },
  {
   "cell_type": "code",
   "execution_count": 7,
   "id": "cb4a14f9-7b60-4cfa-98ba-ac460a347b11",
   "metadata": {},
   "outputs": [
    {
     "name": "stdout",
     "output_type": "stream",
     "text": [
      "190 120\n"
     ]
    }
   ],
   "source": [
    "print(len(train_data), len(test_data))"
   ]
  },
  {
   "cell_type": "markdown",
   "id": "83eb490d-19b9-40b1-90ca-502d13348563",
   "metadata": {},
   "source": [
    "### General rules in data annotations: \n",
    "The EVENTs in clinical history need to be related to the Admission date, and the\n",
    "EVENTs in hospital course need to be related to the Discharge date.\n",
    "\n",
    "To avoid conflict, only one TLINK is allowed between the same pair of entities, e.g. EVENT A cannot be BEFORE and DURING EVENT B at the\n",
    "same time\n",
    "\n",
    "Clinical Events: indicate which of the three categories (tests /problems /treatment ) \n",
    "\n",
    "sec_time_rel attribute records whether the EVENT happens before, after or whether it overlaps with the section creation time\n",
    "\n",
    "### Event attributes:\n",
    "#### Type\n",
    "six EVENT types to categorize different kinds of EVENTs: TEST, PROBLEM, TREATMENT, CLINICAL_DEPT, EVIDENTIAL and OCCURRENCE.\n",
    "\n",
    "- The first three values correspond to different categories of clinical concept EVENTs (clinical tests, symptoms, diagnoses, medications, surgeries and so on).\n",
    "- The CLINICAL_DEPT value is used to mark the clinical units that the patient is admitted into.\n",
    "- The EVIDENTIAL type is for EVENTs that have an ‘evidential’ nature, that is, if the EVENT describes the source of the information (e.g. CT [shows], the patient [complained] and so on).\n",
    "- If an EVENT does not fall in to the above five categories, it will be marked as an “occurrence” – OCCURRENCE is the default value for EVENT type.\n",
    "- TEST, PROBLEM, and TREATMENT EVENTs will be pre-annotated, based on previous manual annotation of clinical concepts in this data.\n",
    "\n",
    "\n",
    "#### Polarity\n",
    "- POS: Most of the EVENTs have POS polarity value, that is, the EVENT is not negated. \n",
    "\n",
    "- NEG: If an EVENT is negated by words such as “not”, “deny”, and so on, its polarity is NEG.\n",
    "\n",
    "#### Modality\n",
    "The modality attribute is used to describe whether an EVENT actually occurred or not.\n",
    "\n",
    "- Factual: This value is assigned to facts, i.e. EVENTs that actually happened (is happening, or will\n",
    "happen). For EVENTs with NEGATIVE polarity, this value corresponds to the situation when something did not happen (is not happening, or will not happen). The default value for the modality attribute is FACTUAL.\n",
    "\n",
    "- CONDITIONAL: This value is assigned to EVENTs that are hypothesized to happen under certain conditions.\n",
    "\n",
    "- POSSIBLE: This value is assigned to EVENTs that are hypothesized to have occurred.\n",
    "\n",
    "- PROPOSED: The “PROPOSED” modality type is assigned to EVENTs that are proposed or suggested but may or\n",
    "may not actually happen. \n",
    "\n",
    "### Temporal Expressions TIMEX3:\n",
    "The type attribute has four possible values: DATE, TIME, DURATION and FREQUENCY.\n",
    "\n",
    "#### Mod\n",
    "1. “NA”: the default value, no relevant modifier is present;\n",
    "2. “MORE”, means “more than”, e.g. over 2 days (val = P2D, mod = MORE);\n",
    "3. “LESS”, means “less than”, e.g. almost 2 months (val = P2M, mod=LESS);\n",
    "4. “APPROX”, means “approximate”, e.g. nearly a week (val = P1W, mod=APPROX);\n",
    "5. “START”, describes the beginning of a period of time, e.g. Christmas morning,\n",
    "2005 (val= 2005-12-25, mod= START).\n",
    "6. “END”, describes the end of a period of time, e.g. late last year, (val = 2010, mod\n",
    "= END)\n",
    "7. “MIDDLE”, describes the middle of a period of time, e.g. mid-September 2001 (val\n",
    "=2001-09, mod= MIDDLE)\n",
    "\n",
    "### TLINK:\n",
    "explicit: The explicit attribute specifies whether the temporal relation is explicitly stated in the text, or is an inference made by the annotator.\n",
    "\n",
    "type: what kind of temporal relation exists between the two entities. In our annotation, we will use eight types of temporal relations: before, after, simultaneous, overlap, begun_by, ended_by, during, and before_overlap.\n",
    "\n",
    "SIMULTANEOUS and OVERLAP TLINK types will be merged because of the difficulty for annotators to distinguish them. \n",
    "\n",
    "- BEFORE, ENDED_BY, and BEFORE_OVERLAP  --> BEFORE\n",
    "\n",
    "- BEGUN_BY and AFTER --> AFTER\n",
    "\n",
    "- SIMULTANEOUS, OVERLAP, and DURING --> OVERLAP\n",
    "- Some links have empty labels. To delete\n",
    "\n",
    "### SECTIME Links:\n",
    "Two types of section times: “ADMISSION” and “DISCHARGE”: \n",
    "- The “ADMISSION” SECTIME is used in the “History of Present Illness” section of the discharge summary. In other words, for all the EVENTs in the patient’s medical history section, the EVENT’s sec_time_rel specifies its relation to the admission date. \n",
    "\n",
    "- For all the other sections in the discharge summary, the “DISCHARGE” SECTIME is used, i.e. the sec_time_rel attribute for every EVENT specifies its relation to the discharge date.\n",
    "\n",
    "\n",
    "where OVERLAP can have reversed links\n",
    "\n",
    "we do not need to mark duplicate relations. \n"
   ]
  },
  {
   "cell_type": "markdown",
   "id": "0db2af6a-0791-41b2-9067-aec13d99ed5c",
   "metadata": {},
   "source": [
    "## 1. Data distribution"
   ]
  },
  {
   "cell_type": "code",
   "execution_count": 9,
   "id": "c19105c6-e871-4d69-93e9-d763a45b26ee",
   "metadata": {},
   "outputs": [],
   "source": [
    "data = train_data\n",
    "link_df = []\n",
    "for doc_id in list(data.keys()):\n",
    "    text = data[doc_id]['ClinicalNarrativeTemporalAnnotation']['TEXT']\n",
    "    \n",
    "    # Only links between events\n",
    "    links = pd.DataFrame(data[doc_id]['ClinicalNarrativeTemporalAnnotation']['TAGS']['TLINK'])\n",
    "    # print('Orginal link count:', len(links))\n",
    "    links = links.loc[links['id'].str.lower().str.contains('sectime')==False]\n",
    "    # print('link count exclude section links:', len(links))\n",
    "\n",
    "    \n",
    "    # There are some links with empty labels\n",
    "    links = links.loc[links['type']!='']\n",
    "\n",
    "    times = pd.DataFrame(data[doc_id]['ClinicalNarrativeTemporalAnnotation']['TAGS']['TIMEX3'])\n",
    "    events = pd.DataFrame(data[doc_id]['ClinicalNarrativeTemporalAnnotation']['TAGS']['EVENT'])\n",
    "\n",
    "    starts = dict(zip(events['id'], events['start'])) | dict(zip(times['id'], times['start']))\n",
    "    ends = dict(zip(events['id'], events['end'])) | dict(zip(times['id'], times['end']))\n",
    "\n",
    "    # All links\n",
    "    # print(links.shape)\n",
    "    links['from_start'] = links['fromID'].map(starts)\n",
    "    links['from_end'] = links['fromID'].map(ends)\n",
    "    links['to_start'] = links['toID'].map(starts)\n",
    "    links['to_end'] = links['toID'].map(ends)\n",
    "    links['span1'] = (links['from_start'].astype(int) - links['to_end'].astype(int)).abs()\n",
    "    links['span2'] = (links['to_start'].astype(int) - links['from_end'].astype(int)).abs()\n",
    "    links['span'] = np.maximum(links['span1'], links['span2'])\n",
    "    \n",
    "    link_df.append(links)"
   ]
  },
  {
   "cell_type": "code",
   "execution_count": 10,
   "id": "88548b0a-7214-437f-987f-bbe2c40923d1",
   "metadata": {},
   "outputs": [],
   "source": [
    "link_df = pd.concat(link_df, axis=0)"
   ]
  },
  {
   "cell_type": "code",
   "execution_count": 11,
   "id": "b3c31936-6351-43ab-b991-59291b1f7c99",
   "metadata": {},
   "outputs": [
    {
     "data": {
      "text/plain": [
       "(17636, 13)"
      ]
     },
     "execution_count": 11,
     "metadata": {},
     "output_type": "execute_result"
    }
   ],
   "source": [
    "link_df.shape"
   ]
  },
  {
   "cell_type": "code",
   "execution_count": 12,
   "id": "03da3641-1745-47e2-a19b-2ec95ba411c8",
   "metadata": {},
   "outputs": [],
   "source": [
    "# link_df.head()"
   ]
  },
  {
   "cell_type": "code",
   "execution_count": 13,
   "id": "3774d197-dd45-4a0f-8f33-e385740ff29d",
   "metadata": {},
   "outputs": [
    {
     "data": {
      "text/plain": [
       "array(['OVERLAP', 'BEFORE', 'AFTER'], dtype=object)"
      ]
     },
     "execution_count": 13,
     "metadata": {},
     "output_type": "execute_result"
    }
   ],
   "source": [
    "link_df['type'].unique()"
   ]
  },
  {
   "cell_type": "code",
   "execution_count": 14,
   "id": "f213a5c8-6015-41bc-9226-fef118f95d1b",
   "metadata": {},
   "outputs": [
    {
     "data": {
      "text/plain": [
       "type\n",
       "OVERLAP    11479\n",
       "BEFORE      3568\n",
       "AFTER       2589\n",
       "Name: count, dtype: int64"
      ]
     },
     "execution_count": 14,
     "metadata": {},
     "output_type": "execute_result"
    }
   ],
   "source": [
    "link_df['type'].value_counts()"
   ]
  },
  {
   "cell_type": "markdown",
   "id": "8c22d442-2f0f-4be7-8f35-439f75b17912",
   "metadata": {},
   "source": [
    "**NOTE: TODO combine BEFORE and AFTER to reduce data imbalance**"
   ]
  },
  {
   "cell_type": "code",
   "execution_count": 15,
   "id": "8ae80a75-6951-4e28-a1b6-ade6d0463c0d",
   "metadata": {},
   "outputs": [
    {
     "data": {
      "text/html": [
       "<div>\n",
       "<style scoped>\n",
       "    .dataframe tbody tr th:only-of-type {\n",
       "        vertical-align: middle;\n",
       "    }\n",
       "\n",
       "    .dataframe tbody tr th {\n",
       "        vertical-align: top;\n",
       "    }\n",
       "\n",
       "    .dataframe thead th {\n",
       "        text-align: right;\n",
       "    }\n",
       "</style>\n",
       "<table border=\"1\" class=\"dataframe\">\n",
       "  <thead>\n",
       "    <tr style=\"text-align: right;\">\n",
       "      <th></th>\n",
       "      <th>id</th>\n",
       "      <th>fromID</th>\n",
       "      <th>fromText</th>\n",
       "      <th>toID</th>\n",
       "      <th>toText</th>\n",
       "      <th>type</th>\n",
       "      <th>from_start</th>\n",
       "      <th>from_end</th>\n",
       "      <th>to_start</th>\n",
       "      <th>to_end</th>\n",
       "      <th>span1</th>\n",
       "      <th>span2</th>\n",
       "      <th>span</th>\n",
       "    </tr>\n",
       "  </thead>\n",
       "  <tbody>\n",
       "    <tr>\n",
       "      <th>119</th>\n",
       "      <td>TL64</td>\n",
       "      <td>E49</td>\n",
       "      <td>orthopnea</td>\n",
       "      <td>E48</td>\n",
       "      <td>chest pain</td>\n",
       "      <td>OVERLAP</td>\n",
       "      <td>1406</td>\n",
       "      <td>1415</td>\n",
       "      <td>1393</td>\n",
       "      <td>1403</td>\n",
       "      <td>3</td>\n",
       "      <td>22</td>\n",
       "      <td>22</td>\n",
       "    </tr>\n",
       "    <tr>\n",
       "      <th>104</th>\n",
       "      <td>TL196</td>\n",
       "      <td>E162</td>\n",
       "      <td>steroids</td>\n",
       "      <td>E160</td>\n",
       "      <td>Nebs</td>\n",
       "      <td>OVERLAP</td>\n",
       "      <td>3615</td>\n",
       "      <td>3623</td>\n",
       "      <td>3584</td>\n",
       "      <td>3588</td>\n",
       "      <td>27</td>\n",
       "      <td>39</td>\n",
       "      <td>39</td>\n",
       "    </tr>\n",
       "    <tr>\n",
       "      <th>0</th>\n",
       "      <td>TL0</td>\n",
       "      <td>E0</td>\n",
       "      <td>ADMISSION</td>\n",
       "      <td>T1</td>\n",
       "      <td>02/01/2000</td>\n",
       "      <td>OVERLAP</td>\n",
       "      <td>1</td>\n",
       "      <td>10</td>\n",
       "      <td>18</td>\n",
       "      <td>28</td>\n",
       "      <td>27</td>\n",
       "      <td>8</td>\n",
       "      <td>27</td>\n",
       "    </tr>\n",
       "    <tr>\n",
       "      <th>36</th>\n",
       "      <td>TL42</td>\n",
       "      <td>E35</td>\n",
       "      <td>transfused blood</td>\n",
       "      <td>E30</td>\n",
       "      <td>autotransfused</td>\n",
       "      <td>OVERLAP</td>\n",
       "      <td>1191</td>\n",
       "      <td>1207</td>\n",
       "      <td>1025</td>\n",
       "      <td>1039</td>\n",
       "      <td>152</td>\n",
       "      <td>182</td>\n",
       "      <td>182</td>\n",
       "    </tr>\n",
       "    <tr>\n",
       "      <th>37</th>\n",
       "      <td>TL131</td>\n",
       "      <td>E65</td>\n",
       "      <td>Acyclovir</td>\n",
       "      <td>E64</td>\n",
       "      <td>positive herpes simplex virus</td>\n",
       "      <td>AFTER</td>\n",
       "      <td>4049</td>\n",
       "      <td>4058</td>\n",
       "      <td>3988</td>\n",
       "      <td>4017</td>\n",
       "      <td>32</td>\n",
       "      <td>70</td>\n",
       "      <td>70</td>\n",
       "    </tr>\n",
       "  </tbody>\n",
       "</table>\n",
       "</div>"
      ],
      "text/plain": [
       "        id fromID          fromText  toID                         toText  \\\n",
       "119   TL64    E49         orthopnea   E48                     chest pain   \n",
       "104  TL196   E162          steroids  E160                           Nebs   \n",
       "0      TL0     E0         ADMISSION    T1                     02/01/2000   \n",
       "36    TL42    E35  transfused blood   E30                 autotransfused   \n",
       "37   TL131    E65         Acyclovir   E64  positive herpes simplex virus   \n",
       "\n",
       "        type from_start from_end to_start to_end  span1  span2  span  \n",
       "119  OVERLAP       1406     1415     1393   1403      3     22    22  \n",
       "104  OVERLAP       3615     3623     3584   3588     27     39    39  \n",
       "0    OVERLAP          1       10       18     28     27      8    27  \n",
       "36   OVERLAP       1191     1207     1025   1039    152    182   182  \n",
       "37     AFTER       4049     4058     3988   4017     32     70    70  "
      ]
     },
     "execution_count": 15,
     "metadata": {},
     "output_type": "execute_result"
    }
   ],
   "source": [
    "link_df.sample(5)"
   ]
  },
  {
   "cell_type": "code",
   "execution_count": 16,
   "id": "d3ff921f-8aa5-43e7-88bd-c6cc830012d8",
   "metadata": {},
   "outputs": [
    {
     "data": {
      "text/plain": [
       "93"
      ]
     },
     "execution_count": 16,
     "metadata": {},
     "output_type": "execute_result"
    }
   ],
   "source": [
    "len('Her lipids were checked with a total cholesterol of 110 , triglycerides 59 , HDL32 , LDL 64 .')"
   ]
  },
  {
   "cell_type": "code",
   "execution_count": 17,
   "id": "e6723b5e-5c7b-4911-ab9d-79bb8b1f5b93",
   "metadata": {},
   "outputs": [
    {
     "data": {
      "text/plain": [
       "count    17636.000000\n",
       "mean       224.097584\n",
       "std        601.367178\n",
       "min          4.000000\n",
       "25%         34.000000\n",
       "50%         54.000000\n",
       "75%        121.000000\n",
       "max       8858.000000\n",
       "Name: span, dtype: float64"
      ]
     },
     "execution_count": 17,
     "metadata": {},
     "output_type": "execute_result"
    }
   ],
   "source": [
    "# How many characters between two events: about two setences. \n",
    "link_df['span'].describe()"
   ]
  },
  {
   "cell_type": "code",
   "execution_count": 18,
   "id": "75526210-1b6a-481e-b690-db114906d2e8",
   "metadata": {},
   "outputs": [
    {
     "data": {
      "text/plain": [
       "array(['OVERLAP', 'BEFORE', 'AFTER'], dtype=object)"
      ]
     },
     "execution_count": 18,
     "metadata": {},
     "output_type": "execute_result"
    }
   ],
   "source": [
    "link_df['type'].unique()"
   ]
  },
  {
   "cell_type": "code",
   "execution_count": 19,
   "id": "9d65f274-abbf-4cd5-a9dd-44e1823dcc80",
   "metadata": {},
   "outputs": [
    {
     "data": {
      "image/png": "[encoded data removed]",
      "text/plain": [
       "<Figure size 640x480 with 4 Axes>"
      ]
     },
     "metadata": {},
     "output_type": "display_data"
    }
   ],
   "source": [
    "link_df[['span', 'type']].hist(column=[\"span\"], by=\"type\")\n",
    "plt.show()"
   ]
  },
  {
   "cell_type": "code",
   "execution_count": 40,
   "id": "07ee8e21-0310-48b1-9bdb-d518207dd0cb",
   "metadata": {},
   "outputs": [],
   "source": [
    "data = train_data\n",
    "times_df = []\n",
    "for doc_id in list(data.keys()):\n",
    "    times = pd.DataFrame(data[doc_id]['ClinicalNarrativeTemporalAnnotation']['TAGS']['TIMEX3'])\n",
    "    times['did'] = doc_id\n",
    "    times = times.loc[times['type'].isin(['DATE', 'DURATION', ''])]\n",
    "    times_df.append(times)"
   ]
  },
  {
   "cell_type": "code",
   "execution_count": 41,
   "id": "62dbb321-185f-4908-a7bd-a36cbe2b1ca8",
   "metadata": {},
   "outputs": [],
   "source": [
    "time_df = pd.concat(times_df, axis=0)"
   ]
  },
  {
   "cell_type": "code",
   "execution_count": 42,
   "id": "3bb2d3d3-efd3-429e-9971-2f19c2700d1d",
   "metadata": {},
   "outputs": [],
   "source": [
    "# time_df"
   ]
  },
  {
   "cell_type": "code",
   "execution_count": 48,
   "id": "168748f0-081b-46f6-b5a1-f32b171cfcd7",
   "metadata": {},
   "outputs": [
    {
     "data": {
      "text/html": [
       "<div>\n",
       "<style scoped>\n",
       "    .dataframe tbody tr th:only-of-type {\n",
       "        vertical-align: middle;\n",
       "    }\n",
       "\n",
       "    .dataframe tbody tr th {\n",
       "        vertical-align: top;\n",
       "    }\n",
       "\n",
       "    .dataframe thead th {\n",
       "        text-align: right;\n",
       "    }\n",
       "</style>\n",
       "<table border=\"1\" class=\"dataframe\">\n",
       "  <thead>\n",
       "    <tr style=\"text-align: right;\">\n",
       "      <th></th>\n",
       "      <th>text</th>\n",
       "      <th>val</th>\n",
       "      <th>did</th>\n",
       "    </tr>\n",
       "  </thead>\n",
       "  <tbody>\n",
       "    <tr>\n",
       "      <th>22</th>\n",
       "      <td>early AM</td>\n",
       "      <td>2016-03-23</td>\n",
       "      <td>517.xml</td>\n",
       "    </tr>\n",
       "    <tr>\n",
       "      <th>6</th>\n",
       "      <td>day of life four</td>\n",
       "      <td>2012-09-29</td>\n",
       "      <td>707.xml</td>\n",
       "    </tr>\n",
       "    <tr>\n",
       "      <th>34</th>\n",
       "      <td>01-24</td>\n",
       "      <td>2019-01-24</td>\n",
       "      <td>153.xml</td>\n",
       "    </tr>\n",
       "    <tr>\n",
       "      <th>4</th>\n",
       "      <td>05/16/2004</td>\n",
       "      <td>2004-05-16</td>\n",
       "      <td>786.xml</td>\n",
       "    </tr>\n",
       "    <tr>\n",
       "      <th>5</th>\n",
       "      <td>a few seconds</td>\n",
       "      <td>P5S</td>\n",
       "      <td>596.xml</td>\n",
       "    </tr>\n",
       "    <tr>\n",
       "      <th>3</th>\n",
       "      <td>the 24 hours</td>\n",
       "      <td>p24h</td>\n",
       "      <td>301.xml</td>\n",
       "    </tr>\n",
       "    <tr>\n",
       "      <th>23</th>\n",
       "      <td>07-17</td>\n",
       "      <td>2017-07-17</td>\n",
       "      <td>472.xml</td>\n",
       "    </tr>\n",
       "    <tr>\n",
       "      <th>10</th>\n",
       "      <td>the day</td>\n",
       "      <td>1995-04-06</td>\n",
       "      <td>291.xml</td>\n",
       "    </tr>\n",
       "    <tr>\n",
       "      <th>2</th>\n",
       "      <td>2010-08-26</td>\n",
       "      <td>210-08-26</td>\n",
       "      <td>68.xml</td>\n",
       "    </tr>\n",
       "    <tr>\n",
       "      <th>21</th>\n",
       "      <td>two months</td>\n",
       "      <td>p2m</td>\n",
       "      <td>631.xml</td>\n",
       "    </tr>\n",
       "  </tbody>\n",
       "</table>\n",
       "</div>"
      ],
      "text/plain": [
       "                text         val      did\n",
       "22          early AM  2016-03-23  517.xml\n",
       "6   day of life four  2012-09-29  707.xml\n",
       "34             01-24  2019-01-24  153.xml\n",
       "4         05/16/2004  2004-05-16  786.xml\n",
       "5      a few seconds         P5S  596.xml\n",
       "3       the 24 hours        p24h  301.xml\n",
       "23             07-17  2017-07-17  472.xml\n",
       "10           the day  1995-04-06  291.xml\n",
       "2         2010-08-26   210-08-26   68.xml\n",
       "21        two months         p2m  631.xml"
      ]
     },
     "execution_count": 48,
     "metadata": {},
     "output_type": "execute_result"
    }
   ],
   "source": [
    "time_df[['text', 'val', 'did']].sample(10)"
   ]
  },
  {
   "cell_type": "code",
   "execution_count": null,
   "id": "a5840f24-b7e9-4cdd-84b5-b0963a152ec2",
   "metadata": {},
   "outputs": [],
   "source": []
  },
  {
   "cell_type": "markdown",
   "id": "10d7b93f-288e-4640-ba0b-e986a2962cea",
   "metadata": {},
   "source": [
    "## 2. Timeline network"
   ]
  },
  {
   "cell_type": "code",
   "execution_count": 339,
   "id": "2c96bf67-410b-4a80-be73-0bdd05f23e9d",
   "metadata": {},
   "outputs": [],
   "source": [
    "def build_graph(doc_id, data):\n",
    "    # for doc_id in list(data.keys())[:1]:\n",
    "    text = data[doc_id]['ClinicalNarrativeTemporalAnnotation']['TEXT']\n",
    "    \n",
    "    events = pd.DataFrame(data[doc_id]['ClinicalNarrativeTemporalAnnotation']['TAGS']['EVENT'])\n",
    "    # FILTER 1: only use events related to medical concepts\n",
    "    # events = events.loc[events['type'].isin(['PROBLEM', 'TEST', 'TREATMENT'])]\n",
    "    event_types = dict(zip(events['id'], events['type']))\n",
    "    \n",
    "    # Remove duplicated admission and discharge time.\n",
    "    # adm_dis = pd.DataFrame(data[doc_id]['ClinicalNarrativeTemporalAnnotation']['TAGS']['SECTIME'])\n",
    "    times = pd.DataFrame(data[doc_id]['ClinicalNarrativeTemporalAnnotation']['TAGS']['TIMEX3'])\n",
    "    time_types = dict(zip(times['id'], times['type']))\n",
    "    \n",
    "    # nodes_keep = list(events['id']) + list(times['id'])\n",
    "    \n",
    "    links = pd.DataFrame(data[doc_id]['ClinicalNarrativeTemporalAnnotation']['TAGS']['TLINK'])\n",
    "    links = links.loc[links['type']!='']\n",
    "    \n",
    "    # FILTER 2: Exclude sectime links\n",
    "    # links = links.loc[links['id'].str.lower().str.contains('sectime')==False]\n",
    "    \n",
    "    \n",
    "    # Normalize AFTER and BEFORE relations\n",
    "    mask = links['type'] == 'AFTER'\n",
    "    links.loc[mask, ['fromID', 'fromText', 'toID', 'toText']] = links.loc[mask, ['toID', 'toText', 'fromID', 'fromText']].values\n",
    "    links.loc[mask, 'type'] = 'BEFORE'\n",
    "    links = links.drop_duplicates(subset=['fromID', 'fromText', 'toID', 'toText', 'type'], keep='last')\n",
    "    \n",
    "    \n",
    "    # print(links)\n",
    "    G = nx.from_pandas_edgelist(links[['fromID', 'toID', 'type']], source='fromID', target='toID', edge_attr=True, create_using=nx.DiGraph())\n",
    "    source_nodes = dict(zip(links['fromID'], links['fromText']))\n",
    "    target_nodes = dict(zip(links['toID'], links['toText']))\n",
    "    nx.set_node_attributes(G, source_nodes|target_nodes, 'text')\n",
    "    nx.set_node_attributes(G, event_types|time_types, 'type')\n",
    "    # only keep nodes of interest\n",
    "    # FILTER 3: only subgraph\n",
    "    # G = G.subgraph(nodes_keep).copy()\n",
    "    \n",
    "    # clear reverse links and reduce redundent nodes; \n",
    "    # There are no many duplicated links\n",
    "    return G"
   ]
  },
  {
   "cell_type": "code",
   "execution_count": 340,
   "id": "e231931a-178d-4362-976f-fe2cf55c9e3e",
   "metadata": {},
   "outputs": [],
   "source": [
    "# links\n",
    "# events\n",
    "# times"
   ]
  },
  {
   "cell_type": "code",
   "execution_count": 341,
   "id": "cd4c72ef-63e7-4b9d-b4a6-c9c0170c5683",
   "metadata": {},
   "outputs": [],
   "source": [
    "G = build_graph('36.xml', train_data)"
   ]
  },
  {
   "cell_type": "code",
   "execution_count": 342,
   "id": "82169ba9-a22f-4222-861d-eab04b6281da",
   "metadata": {},
   "outputs": [
    {
     "name": "stdout",
     "output_type": "stream",
     "text": [
      "Graph with 189 nodes and 346 edges\n"
     ]
    }
   ],
   "source": [
    "print(f\"Graph with {G.number_of_nodes()} nodes and {G.number_of_edges()} edges\")"
   ]
  },
  {
   "cell_type": "code",
   "execution_count": 140,
   "id": "a2282640-67e0-4718-ba7b-041442ab0fe9",
   "metadata": {},
   "outputs": [],
   "source": [
    "# Graph with 189 nodes and 349 edges\n",
    "# Use all available information and can choose the scope in the answer\n",
    "# nx.write_graphml(G, \"temp_graph.graphml\")\n",
    "\n",
    "# Ingore below ideas as it would create many disconnected nodes\n",
    "# Graph with 149 nodes and 235 edges\n",
    "# nx.write_graphml(G, \"temp_graph_clinical_event.graphml\")\n",
    "\n",
    "# Graph with 148 nodes and 104 edges\n",
    "# nx.write_graphml(G, \"temp_graph_clinical_event_tlink_only.graphml\")"
   ]
  },
  {
   "cell_type": "code",
   "execution_count": 141,
   "id": "d0e0c8c7-fdc7-4c2e-af22-2fdfff220914",
   "metadata": {},
   "outputs": [],
   "source": [
    "# Example:\n",
    "# She will be discharged on Lisinopril with further titration as an outpatient .\n",
    "# <TLINK id=\"TL121\" fromID=\"E142\" fromText=\"Lisinopril\" toID=\"E141\" toText=\"discharged\" type=\"BEFORE\" />\n",
    "# <TLINK id=\"TL122\" fromID=\"E142\" fromText=\"Lisinopril\" toID=\"E143\" toText=\"further titration\" type=\"BEFORE\" />"
   ]
  },
  {
   "cell_type": "markdown",
   "id": "53768fe3-2f90-4ebe-8483-0e7a1df81935",
   "metadata": {},
   "source": [
    "### When some non-clinical nodes removed, some time nodes are isolated. SO keep them until the last output step\n",
    "Some unimportant nodes can be useful to infer paths for other important nodes. \n",
    "\n",
    "SO: keep all nodes. \n",
    "Just combine 'after' and 'before' together. \n",
    "\n",
    "\n",
    "How to align: \n",
    "\n",
    "Path: inducible ischemia -> subsequent dobutamine MIBI -> a poor study -> 02/08/2002\n",
    "\n",
    "Edges: BEFORE -> AFTER -> BEFORE\n"
   ]
  },
  {
   "cell_type": "code",
   "execution_count": 25,
   "id": "acaed0e5-65c9-4c97-962c-4954a4a68347",
   "metadata": {},
   "outputs": [],
   "source": [
    "# longest_path_length = nx.dag_longest_path_length(G)"
   ]
  },
  {
   "cell_type": "code",
   "execution_count": 26,
   "id": "16cdf9ac-370e-4a16-9a80-d35fc5b970be",
   "metadata": {},
   "outputs": [],
   "source": [
    "# Graph contains a cycle or graph changed during iteration \n",
    "# longest_path_length = nx.dag_longest_path_length(G)"
   ]
  },
  {
   "cell_type": "code",
   "execution_count": 230,
   "id": "98a62c91-8038-4996-9284-3aa1a4d3c16e",
   "metadata": {},
   "outputs": [],
   "source": [
    "print(\"All paths in the graph with labels:\")\n",
    "for source in G.nodes:\n",
    "    for target in G.nodes:\n",
    "        if source != target:\n",
    "            # Get all simple paths\n",
    "            paths = list(nx.all_simple_paths(G, source=source, target=target))\n",
    "            for path in paths:\n",
    "                # Convert node IDs to their labels\n",
    "                # print(path)\n",
    "                if len(path)>20:\n",
    "                    nodes_types = [G.nodes[node][\"type\"] for node in path]\n",
    "                    node_labels = [G.nodes[node][\"text\"] for node in path]\n",
    "    \n",
    "                    # Find edges along the path and get their labels\n",
    "                    edge_labels = [\n",
    "                        G.edges[path[i], path[i + 1]][\"type\"]\n",
    "                        for i in range(len(path) - 1)\n",
    "                    ]\n",
    "                    # Print the path with labels\n",
    "                    if len(set(['PROBLEM', 'TEST', 'TREATMENT']).intersection(set(nodes_types)))>0:\n",
    "                        print(f\"Path: {' -> '.join(node_labels)}\")\n",
    "                        print(f\"Path: {' -> '.join(nodes_types)}\")\n",
    "                        print(f\"Edges: {' -> '.join(edge_labels)}\")\n",
    "                        print()"
   ]
  },
  {
   "cell_type": "markdown",
   "id": "12f77bf0-1345-4cf8-86c1-e2f807dd162a",
   "metadata": {},
   "source": [
    "- There is no path linking all events together.\n",
    "- There is a loop in the network so there is not the longest path"
   ]
  },
  {
   "cell_type": "code",
   "execution_count": 32,
   "id": "121d28e6-bcb5-4878-a408-db47deb20c46",
   "metadata": {},
   "outputs": [
    {
     "name": "stdout",
     "output_type": "stream",
     "text": [
      "[('E116', {'text': 'admission', 'type': 'OCCURRENCE'}), ('E0', {'text': 'Admission', 'type': 'OCCURRENCE'}), ('E65', {'text': 'cellulitis on her legs', 'type': 'PROBLEM'}), ('E71', {'text': 'her cellulitis', 'type': 'PROBLEM'}), ('E24', {'text': 'The diuresis', 'type': 'TREATMENT'}), ('E87', {'text': 'backed off', 'type': 'OCCURRENCE'}), ('E33', {'text': 'a small right common femoral clot', 'type': 'PROBLEM'}), ('E32', {'text': 'lower extremity non-invasive studies', 'type': 'TEST'}), ('E34', {'text': 'A TTE', 'type': 'TEST'}), ('E131', {'text': 'showed', 'type': 'EVIDENTIAL'})]\n",
      "[('E116', 'E0', {'type': 'OVERLAP'}), ('E116', 'T0', {'type': 'OVERLAP'}), ('E0', 'T0', {'type': 'OVERLAP'}), ('E0', 'E85', {'type': 'OVERLAP'}), ('E65', 'E71', {'type': 'OVERLAP'}), ('E65', 'E69', {'type': 'BEFORE'}), ('E65', 'T1', {'type': 'BEFORE'}), ('E71', 'T1', {'type': 'BEFORE'}), ('E24', 'E87', {'type': 'OVERLAP'}), ('E24', 'T10', {'type': 'OVERLAP'})]\n"
     ]
    }
   ],
   "source": [
    "print(list(G.nodes(data=True))[:10])\n",
    "\n",
    "print(list(G.edges(data=True))[:10])"
   ]
  },
  {
   "cell_type": "markdown",
   "id": "24e91966-1632-49a8-a503-b256c7f106ec",
   "metadata": {},
   "source": [
    "# Network purge"
   ]
  },
  {
   "cell_type": "markdown",
   "id": "b72bf265-aec8-4545-b6a0-ca118b06fe07",
   "metadata": {},
   "source": [
    "### Merge overlap nodes"
   ]
  },
  {
   "cell_type": "code",
   "execution_count": 302,
   "id": "1771a3a7-ff53-4b5c-9fd3-c86cff1469e3",
   "metadata": {},
   "outputs": [],
   "source": [
    "# cut_edges = nx.minimum_edge_cut(G)"
   ]
  },
  {
   "cell_type": "code",
   "execution_count": 307,
   "id": "92a78a25-7a8b-4bcd-9a3d-94e46abeff33",
   "metadata": {},
   "outputs": [],
   "source": [
    "def merge_overlapping_nodes(G):\n",
    "    \"\"\"\n",
    "    Merge nodes that are connected by edges with type='overlp'.\n",
    "    Only merges edges across merged groups if they have the same direction.\n",
    "    Maintains node attributes and edge attributes as JSON strings for GraphML compatibility.\n",
    "    Tracks source nodes for each merged edge.\n",
    "    \n",
    "    Args:\n",
    "        G (nx.Graph or nx.DiGraph): Input graph\n",
    "        \n",
    "    Returns:\n",
    "        nx.Graph or nx.DiGraph: New graph with merged nodes and edges\n",
    "    \"\"\"\n",
    "    # Create new merged graph of same type as input\n",
    "    merged_G = G.__class__()\n",
    "    \n",
    "    # Find connected components considering only overlap edges\n",
    "    overlap_edges = [(u, v) for u, v, d in G.edges(data=True) if d.get('type') == 'OVERLAP']\n",
    "    overlap_graph = nx.Graph()  # Undirected for finding components\n",
    "    overlap_graph.add_edges_from(overlap_edges)\n",
    "    \n",
    "    # Get clusters of nodes to merge\n",
    "    clusters = list(nx.connected_components(overlap_graph))\n",
    "    \n",
    "    # Create mapping from original nodes to their merged cluster names\n",
    "    node_to_cluster = {}\n",
    "    for cluster in clusters:\n",
    "        cluster = list(cluster)\n",
    "        merged_name = '+'.join(sorted(cluster))\n",
    "        for node in cluster:\n",
    "            node_to_cluster[node] = merged_name\n",
    "    \n",
    "    # Process nodes\n",
    "    for cluster in clusters:\n",
    "        cluster = list(cluster)\n",
    "        \n",
    "        if len(cluster) == 1:\n",
    "            # Single node, just copy it and its attributes\n",
    "            node = cluster[0]\n",
    "            merged_G.add_node(node, **G.nodes[node])\n",
    "            continue\n",
    "            \n",
    "        # Create merged node name\n",
    "        merged_node = '+'.join(sorted(cluster))\n",
    "        \n",
    "        # Combine node attributes and convert to JSON string\n",
    "        merged_attrs = {\n",
    "            'original_nodes': json.dumps(cluster),\n",
    "            'node_attributes': json.dumps({node: dict(G.nodes[node]) for node in cluster})\n",
    "        }\n",
    "        \n",
    "        # Add merged node\n",
    "        merged_G.add_node(merged_node, **merged_attrs)\n",
    "    \n",
    "    # Add nodes that weren't in any cluster\n",
    "    unclustered_nodes = set(G.nodes()) - set(node for cluster in clusters for node in cluster)\n",
    "    for node in unclustered_nodes:\n",
    "        merged_G.add_node(node, **G.nodes[node])\n",
    "        node_to_cluster[node] = node  # Map to itself\n",
    "    \n",
    "    # Create a dictionary to store edges between clusters\n",
    "    cluster_edges = {}  # (from_cluster, to_cluster) -> list of original edges with source info\n",
    "    \n",
    "    # Process edges\n",
    "    for u, v, data in G.edges(data=True):\n",
    "        # Get cluster names (or original names for unclustered nodes)\n",
    "        u_cluster = node_to_cluster[u]\n",
    "        v_cluster = node_to_cluster[v]\n",
    "        \n",
    "        # Skip internal edges of merged clusters if they were overlap edges\n",
    "        if u_cluster == v_cluster and data.get('type') == 'OVERLAP':\n",
    "            continue\n",
    "        \n",
    "        # Add source node information to edge data\n",
    "        edge_data = data.copy()\n",
    "        edge_data['source_nodes'] = {'from': u, 'to': v}\n",
    "        \n",
    "        # Create edge key based on direction\n",
    "        edge_key = (u_cluster, v_cluster)\n",
    "        \n",
    "        # For directed graphs, maintain direction information\n",
    "        if isinstance(G, nx.DiGraph):\n",
    "            if edge_key not in cluster_edges:\n",
    "                cluster_edges[edge_key] = []\n",
    "            cluster_edges[edge_key].append((u, v, edge_data))\n",
    "        else:\n",
    "            # For undirected graphs, normalize the edge key\n",
    "            normalized_key = tuple(sorted([u_cluster, v_cluster]))\n",
    "            if normalized_key not in cluster_edges:\n",
    "                cluster_edges[normalized_key] = []\n",
    "            cluster_edges[normalized_key].append((u, v, edge_data))\n",
    "    \n",
    "    # Add merged edges to the graph\n",
    "    for (from_cluster, to_cluster), edges in cluster_edges.items():\n",
    "        # For directed graphs, check if all edges have the same direction\n",
    "        if isinstance(G, nx.DiGraph):\n",
    "            # Check if all edges go in the same direction\n",
    "            directions = set((u_cluster, v_cluster) \n",
    "                           for u, v, _ in edges\n",
    "                           for u_cluster, v_cluster in [(node_to_cluster[u], node_to_cluster[v])])\n",
    "            \n",
    "            if len(directions) == 1:  # All edges have same direction\n",
    "                merged_G.add_edge(from_cluster, to_cluster, \n",
    "                                edge_attributes=json.dumps([data for _, _, data in edges]))\n",
    "        else:\n",
    "            # For undirected graphs, just add the edge\n",
    "            merged_G.add_edge(from_cluster, to_cluster, \n",
    "                            edge_attributes=json.dumps([data for _, _, data in edges]))\n",
    "    \n",
    "    return merged_G\n",
    "\n",
    "def load_merged_graph(graphml_file):\n",
    "    \"\"\"\n",
    "    Load a merged graph from GraphML file and convert JSON string attributes back to Python objects.\n",
    "    \"\"\"\n",
    "    G = nx.read_graphml(graphml_file)\n",
    "    \n",
    "    # Convert node attributes back from JSON\n",
    "    for node in G.nodes():\n",
    "        if 'original_nodes' in G.nodes[node]:\n",
    "            G.nodes[node]['original_nodes'] = json.loads(G.nodes[node]['original_nodes'])\n",
    "            G.nodes[node]['node_attributes'] = json.loads(G.nodes[node]['node_attributes'])\n",
    "    \n",
    "    # Convert edge attributes back from JSON\n",
    "    for u, v in G.edges():\n",
    "        if 'edge_attributes' in G[u][v]:\n",
    "            G[u][v]['edge_attributes'] = json.loads(G[u][v]['edge_attributes'])\n",
    "    \n",
    "    return G\n",
    "\n",
    "# # Example usage\n",
    "# def create_example_graph():\n",
    "#     # Create a directed graph for testing\n",
    "#     G = nx.DiGraph()\n",
    "    \n",
    "#     # Add nodes with attributes\n",
    "#     G.add_node('A', weight=1)\n",
    "#     G.add_node('B', weight=2)\n",
    "#     G.add_node('C', weight=3)\n",
    "#     G.add_node('D', weight=4)\n",
    "#     G.add_node('E', weight=5)\n",
    "    \n",
    "#     # Add edges with attributes\n",
    "#     G.add_edge('A', 'B', type='overlp', weight=1)\n",
    "#     G.add_edge('B', 'C', type='normal', weight=2)\n",
    "#     G.add_edge('C', 'D', type='overlp', weight=3)\n",
    "#     G.add_edge('A', 'E', type='normal', weight=4)\n",
    "#     G.add_edge('E', 'C', type='normal', weight=5)\n",
    "    \n",
    "#     return G\n",
    "\n",
    "# # Test the function\n",
    "# if __name__ == \"__main__\":\n",
    "#     G = create_example_graph()\n",
    "#     merged_G = merge_overlapping_nodes(G)\n",
    "    \n",
    "#     # Save to GraphML\n",
    "#     nx.write_graphml(merged_G, \"temp_graph_merged_overlap.graphml\")\n",
    "    \n",
    "#     # Load and convert back\n",
    "#     loaded_G = load_merged_graph(\"temp_graph_merged_overlap.graphml\")\n",
    "    \n",
    "#     print(\"Original nodes:\", G.nodes(data=True))\n",
    "#     print(\"Merged nodes:\", loaded_G.nodes(data=True))\n",
    "#     print(\"Original edges:\", G.edges(data=True))\n",
    "    \n",
    "#     # Print merged edges with source information\n",
    "#     print(\"\\nMerged edges with sources:\")\n",
    "#     for u, v, data in loaded_G.edges(data=True):\n",
    "#         print(f\"Edge {u} -> {v}:\")\n",
    "#         for edge_attr in data['edge_attributes']:\n",
    "#             print(f\"  From {edge_attr['source_nodes']['from']} to {edge_attr['source_nodes']['to']}\")\n",
    "#             print(f\"  Attributes: {edge_attr}\")"
   ]
  },
  {
   "cell_type": "code",
   "execution_count": 308,
   "id": "49f40bf2-cda7-47b3-8e6b-8bd0edbf8ff8",
   "metadata": {},
   "outputs": [],
   "source": [
    "mergaed_G = merge_overlapping_nodes(G)"
   ]
  },
  {
   "cell_type": "code",
   "execution_count": 309,
   "id": "f626667f-2a6f-49b7-9d98-9b18d5efa5e0",
   "metadata": {},
   "outputs": [],
   "source": [
    "# print(list(G.nodes(data=True))[:10])\n",
    "# print(list(G.edges(data=True))[:10])"
   ]
  },
  {
   "cell_type": "code",
   "execution_count": 310,
   "id": "07ce9ce2-ba09-4633-b9ba-35c5adc5350f",
   "metadata": {},
   "outputs": [
    {
     "name": "stdout",
     "output_type": "stream",
     "text": [
      "Graph with 189 nodes and 346 edges\n"
     ]
    }
   ],
   "source": [
    "print(f\"Graph with {G.number_of_nodes()} nodes and {G.number_of_edges()} edges\")"
   ]
  },
  {
   "cell_type": "code",
   "execution_count": 311,
   "id": "57d9cff5-cb32-4bfc-8e1f-540eb9b4bda9",
   "metadata": {},
   "outputs": [
    {
     "name": "stdout",
     "output_type": "stream",
     "text": [
      "Graph with 82 nodes and 135 edges\n"
     ]
    }
   ],
   "source": [
    "print(f\"Graph with {mergaed_G.number_of_nodes()} nodes and {mergaed_G.number_of_edges()} edges\")"
   ]
  },
  {
   "cell_type": "code",
   "execution_count": 173,
   "id": "4efcdfc0-e361-437b-b4f1-06e3c349df82",
   "metadata": {},
   "outputs": [],
   "source": [
    "nx.write_graphml(mergaed_G, \"temp_graph_merged_overlap.graphml\")"
   ]
  },
  {
   "cell_type": "markdown",
   "id": "af265fe9-c1f6-4315-95e8-41b25fda3a8a",
   "metadata": {},
   "source": [
    "### Check conflicting edges"
   ]
  },
  {
   "cell_type": "code",
   "execution_count": 312,
   "id": "92b93efd-c68c-4ee9-9ee6-8cda46c085f0",
   "metadata": {},
   "outputs": [],
   "source": [
    "def find_mutual_and_self_links(G):\n",
    "    \"\"\"\n",
    "    Find nodes that have mutual connections (bidirectional links) and self-loops.\n",
    "    \n",
    "    Args:\n",
    "        G (nx.Graph or nx.DiGraph): Input graph\n",
    "        \n",
    "    Returns:\n",
    "        tuple: (mutual_pairs, self_loop_nodes)\n",
    "            - mutual_pairs: set of frozensets containing pairs of nodes with mutual links\n",
    "            - self_loop_nodes: set of nodes that have self-loops\n",
    "    \"\"\"\n",
    "    mutual_pairs = []\n",
    "    self_loop_nodes = []\n",
    "    \n",
    "    # Handle both directed and undirected graphs\n",
    "    if isinstance(G, nx.DiGraph):\n",
    "        # For directed graphs, find pairs of nodes with edges in both directions\n",
    "        for u, v in G.edges():\n",
    "            # Check for self-loops\n",
    "            if u == v:\n",
    "                self_loop_nodes.append(u)\n",
    "            # Check for mutual links\n",
    "            elif G.has_edge(v, u):\n",
    "                mutual_pairs.append((u, v))\n",
    "    else:\n",
    "        # For undirected graphs, all connections are mutual by definition\n",
    "        for u, v in G.edges():\n",
    "            if u == v:\n",
    "                self_loop_nodes.append(u)\n",
    "            else:\n",
    "                mutual_pairs.append((u, v))\n",
    "    \n",
    "    return mutual_pairs, self_loop_nodes\n"
   ]
  },
  {
   "cell_type": "code",
   "execution_count": 313,
   "id": "4be694de-47c0-4fa5-bf22-57bbfd7bd915",
   "metadata": {},
   "outputs": [],
   "source": [
    "mutual_links, self_links = find_mutual_and_self_links(mergaed_G)"
   ]
  },
  {
   "cell_type": "markdown",
   "id": "9538e2f1-9a16-4192-9daa-4ecf63ce5d13",
   "metadata": {},
   "source": [
    "__There are two conflict edges__: in 36.xml, mutual and self links indicate conflicting edges. \n",
    "- Mutual links:\n",
    "    - ```<TLINK id=\"TL179\" fromID=\"E168\" fromText=\"Low salt diet\" toID=\"E165\" toText=\"discharged\" type=\"BEFORE\" />```\n",
    "    - E168 --> E165\n",
    "    - ```<TLINK id=\"SECTIME157\" fromID=\"E168\" fromText=\"Low salt diet\" toID=\"T1\" toText=\"02/08/2002\" type=\"AFTER\" />```\n",
    "    - ```<TLINK id=\"SECTIME153\" fromID=\"E165\" fromText=\"discharged\" toID=\"T1\" toText=\"02/08/2002\" type=\"OVERLAP\" />```\n",
    "    - E165 == T1 --> E168\n",
    "\n",
    "- Self-links:\n",
    "    - ```<TLINK id=\"SECTIME155\" fromID=\"E81\" fromText=\"Discharge INR\" toID=\"T1\" toText=\"02/08/2002\" type=\"BEFORE\" />```\n",
    "    - ```<TLINK id=\"TL177\" fromID=\"E81\" fromText=\"Discharge INR\" toID=\"E164\" toText=\"discharge\" type=\"OVERLAP\" />```\n",
    "    - ```<TLINK id=\"SECTIME152\" fromID=\"E164\" fromText=\"discharge\" toID=\"T1\" toText=\"02/08/2002\" type=\"OVERLAP\" />```\n",
    "    -  __E164__ === E81 --> T1 == __E164__"
   ]
  },
  {
   "cell_type": "code",
   "execution_count": 314,
   "id": "65c87815-5425-4937-be8f-68377db29e37",
   "metadata": {},
   "outputs": [
    {
     "name": "stdout",
     "output_type": "stream",
     "text": [
      "E130+E141+E146+E164+E165+E81+E92+T1 E145+E50+E51 {'edge_attributes': '[{\"type\": \"BEFORE\", \"source_nodes\": {\"from\": \"E141\", \"to\": \"E50\"}}, {\"type\": \"BEFORE\", \"source_nodes\": {\"from\": \"T1\", \"to\": \"E145\"}}]'}\n",
      "E130+E141+E146+E164+E165+E81+E92+T1 E168+E169 {'edge_attributes': '[{\"type\": \"BEFORE\", \"source_nodes\": {\"from\": \"T1\", \"to\": \"E168\"}}, {\"type\": \"BEFORE\", \"source_nodes\": {\"from\": \"T1\", \"to\": \"E169\"}}]'}\n",
      "E145+E50+E51 E130+E141+E146+E164+E165+E81+E92+T1 {'edge_attributes': '[{\"type\": \"BEFORE\", \"source_nodes\": {\"from\": \"E50\", \"to\": \"T1\"}}, {\"type\": \"BEFORE\", \"source_nodes\": {\"from\": \"E51\", \"to\": \"T1\"}}]'}\n",
      "E168+E169 E130+E141+E146+E164+E165+E81+E92+T1 {'edge_attributes': '[{\"type\": \"BEFORE\", \"source_nodes\": {\"from\": \"E168\", \"to\": \"E165\"}}]'}\n"
     ]
    }
   ],
   "source": [
    "for u, v in mutual_links:\n",
    "    print(u, v, mergaed_G.get_edge_data(u, v))"
   ]
  },
  {
   "cell_type": "code",
   "execution_count": 315,
   "id": "82906144-d0e1-4079-b015-9b773ee58549",
   "metadata": {},
   "outputs": [
    {
     "name": "stdout",
     "output_type": "stream",
     "text": [
      "E0+E1+E107+E109+E110+E116+E119+E121+E129+E2+E3+E83+E84+E85+E95+E96+E97+E98+T0+T2+T3+T5 E0+E1+E107+E109+E110+E116+E119+E121+E129+E2+E3+E83+E84+E85+E95+E96+E97+E98+T0+T2+T3+T5 {'edge_attributes': '[{\"type\": \"BEFORE\", \"source_nodes\": {\"from\": \"E84\", \"to\": \"T1\"}}, {\"type\": \"BEFORE\", \"source_nodes\": {\"from\": \"E121\", \"to\": \"T1\"}}, {\"type\": \"BEFORE\", \"source_nodes\": {\"from\": \"E129\", \"to\": \"T1\"}}, {\"type\": \"BEFORE\", \"source_nodes\": {\"from\": \"E85\", \"to\": \"T1\"}}]'}\n",
      "E130+E141+E146+E164+E165+E81+E92+T1 E130+E141+E146+E164+E165+E81+E92+T1 {'edge_attributes': '[{\"type\": \"BEFORE\", \"source_nodes\": {\"from\": \"E81\", \"to\": \"T1\"}}]'}\n"
     ]
    }
   ],
   "source": [
    "for u in self_links:\n",
    "    print(u, u, mergaed_G.get_edge_data(u, v))"
   ]
  },
  {
   "cell_type": "markdown",
   "id": "0afc2058-673b-4745-96af-087dd680ac62",
   "metadata": {},
   "source": [
    "### Remove mutual_links (let other nodes decide e.g., A==B-->C-->A) and self_links (can be error as the number of before in a group is larger than self-link count)"
   ]
  },
  {
   "cell_type": "code",
   "execution_count": 316,
   "id": "6496063d-d333-42a8-b558-1d9321a93e39",
   "metadata": {},
   "outputs": [],
   "source": [
    "def remove_self_links(G):\n",
    "    H = G.copy()\n",
    "    self_loops = list(nx.selfloop_edges(H))\n",
    "    H.remove_edges_from(self_loops)\n",
    "    return H"
   ]
  },
  {
   "cell_type": "code",
   "execution_count": 317,
   "id": "da790a1e-0582-4bb0-b317-f024bbff2d37",
   "metadata": {},
   "outputs": [],
   "source": [
    "def remove_mutual_links(G):\n",
    "    H = G.copy()\n",
    "    edges_to_remove = set()\n",
    "    \n",
    "    for u, v in G.edges():\n",
    "        if H.has_edge(v, u) and (v, u) not in edges_to_remove and (u, v) not in edges_to_remove:\n",
    "            edge1 = G.get_edge_data(u, v)\n",
    "            edge2 = G.get_edge_data(v, u)\n",
    "            edges_to_remove.add((u, v))\n",
    "            edges_to_remove.add((v, u))\n",
    "    H.remove_edges_from(edges_to_remove)\n",
    "    return H"
   ]
  },
  {
   "cell_type": "code",
   "execution_count": 318,
   "id": "12f9a83d-4426-490b-8065-8da5c93c237c",
   "metadata": {},
   "outputs": [],
   "source": [
    "mergaed_G_clean = remove_self_links(mergaed_G)"
   ]
  },
  {
   "cell_type": "code",
   "execution_count": 319,
   "id": "75e51883-9def-4757-8afc-c747d7c44396",
   "metadata": {},
   "outputs": [],
   "source": [
    "mergaed_G_clean2 = remove_mutual_links(mergaed_G_clean)"
   ]
  },
  {
   "cell_type": "code",
   "execution_count": 320,
   "id": "0322cab8-816d-45af-9d16-684b92de99e7",
   "metadata": {},
   "outputs": [],
   "source": [
    "mutual_links, self_links = find_mutual_and_self_links(mergaed_G_clean)"
   ]
  },
  {
   "cell_type": "code",
   "execution_count": 321,
   "id": "77b33d69-d5f4-4219-8091-58533d3008ae",
   "metadata": {},
   "outputs": [
    {
     "data": {
      "text/plain": [
       "([('E130+E141+E146+E164+E165+E81+E92+T1', 'E145+E50+E51'),\n",
       "  ('E130+E141+E146+E164+E165+E81+E92+T1', 'E168+E169'),\n",
       "  ('E145+E50+E51', 'E130+E141+E146+E164+E165+E81+E92+T1'),\n",
       "  ('E168+E169', 'E130+E141+E146+E164+E165+E81+E92+T1')],\n",
       " [])"
      ]
     },
     "execution_count": 321,
     "metadata": {},
     "output_type": "execute_result"
    }
   ],
   "source": [
    "mutual_links, self_links"
   ]
  },
  {
   "cell_type": "code",
   "execution_count": 322,
   "id": "a16e79c3-7fc2-4e9a-8f36-b2c218592bcf",
   "metadata": {},
   "outputs": [
    {
     "data": {
      "text/plain": [
       "([], [])"
      ]
     },
     "execution_count": 322,
     "metadata": {},
     "output_type": "execute_result"
    }
   ],
   "source": [
    "find_mutual_and_self_links(mergaed_G_clean2)"
   ]
  },
  {
   "cell_type": "code",
   "execution_count": 323,
   "id": "2c8e127f-c528-46be-9536-61cd00c185f1",
   "metadata": {},
   "outputs": [
    {
     "name": "stdout",
     "output_type": "stream",
     "text": [
      "Graph with 82 nodes and 129 edges\n"
     ]
    }
   ],
   "source": [
    "print(f\"Graph with {mergaed_G_clean2.number_of_nodes()} nodes and {mergaed_G_clean2.number_of_edges()} edges\")"
   ]
  },
  {
   "cell_type": "code",
   "execution_count": 287,
   "id": "b3551d49-b35b-4258-be19-0a9af0179aa3",
   "metadata": {},
   "outputs": [],
   "source": [
    "nx.write_graphml(mergaed_G_clean2, \"temp_graph_merged_overlap_resolve_conflict.graphml\")"
   ]
  },
  {
   "cell_type": "markdown",
   "id": "529af741-8115-4549-b7f8-fa5702cbfac5",
   "metadata": {},
   "source": [
    "### Remove redundent links, keep the longest and comphrensive path. E.g., A-->B-->C delete A-->C"
   ]
  },
  {
   "cell_type": "code",
   "execution_count": 330,
   "id": "3daa2c8d-b2b0-47a9-9ba3-7c2ff58497e6",
   "metadata": {},
   "outputs": [],
   "source": [
    "def remove_redundant_edges(G):\n",
    "    redundant_edges = []\n",
    "    \n",
    "    # Iterate over edges while capturing their attributes\n",
    "    edges = list(G.edges(data=True))  # List of tuples (u, v, data_dict)\n",
    "    \n",
    "    for u, v, data in edges:\n",
    "        # Remove the edge and check if a path still exists\n",
    "        G.remove_edge(u, v)\n",
    "        \n",
    "        if nx.has_path(G, u, v):\n",
    "            redundant_edges.append((u, v))\n",
    "        \n",
    "        # Re-add the edge with its original attributes\n",
    "        G.add_edge(u, v, **data)\n",
    "    \n",
    "    # Remove redundant edges (preserves attributes of non-redundant edges)\n",
    "    G.remove_edges_from(redundant_edges)\n",
    "    return G"
   ]
  },
  {
   "cell_type": "code",
   "execution_count": 331,
   "id": "6975cf3a-181b-47e6-9c26-f918c64da6a6",
   "metadata": {},
   "outputs": [],
   "source": [
    "mergaed_G_clean3 = remove_redundant_edges(mergaed_G_clean2)"
   ]
  },
  {
   "cell_type": "code",
   "execution_count": 332,
   "id": "337e72d4-7598-475d-abe4-2b4499c20736",
   "metadata": {},
   "outputs": [
    {
     "name": "stdout",
     "output_type": "stream",
     "text": [
      "Graph with 82 nodes and 89 edges\n"
     ]
    }
   ],
   "source": [
    "print(f\"Graph with {mergaed_G_clean3.number_of_nodes()} nodes and {mergaed_G_clean3.number_of_edges()} edges\")"
   ]
  },
  {
   "cell_type": "code",
   "execution_count": 329,
   "id": "c2023e7a-f347-471b-b3f3-107af2448169",
   "metadata": {},
   "outputs": [],
   "source": [
    "nx.write_graphml(mergaed_G_clean3, \"temp_graph_merged_overlap_resolve_conflict_remove_redundent.graphml\")"
   ]
  },
  {
   "cell_type": "code",
   "execution_count": null,
   "id": "bb132433-9b57-442b-9360-505d6a895f8d",
   "metadata": {},
   "outputs": [],
   "source": []
  },
  {
   "cell_type": "code",
   "execution_count": null,
   "id": "f2d06d3d-8a2d-4b38-8261-ea4b71c1b62f",
   "metadata": {},
   "outputs": [],
   "source": []
  },
  {
   "cell_type": "code",
   "execution_count": null,
   "id": "9eb8a755-5535-4d80-b69a-066ac5b981b5",
   "metadata": {},
   "outputs": [],
   "source": []
  },
  {
   "cell_type": "code",
   "execution_count": null,
   "id": "b93dafa5-8bf1-4056-a60b-d476da16e845",
   "metadata": {},
   "outputs": [],
   "source": []
  },
  {
   "cell_type": "code",
   "execution_count": null,
   "id": "a31fe8c0-df7c-4c28-90d5-d66fb1cf3d0b",
   "metadata": {},
   "outputs": [],
   "source": []
  },
  {
   "cell_type": "code",
   "execution_count": null,
   "id": "649d048b-cf39-4966-a0c3-4e4d0780bd2e",
   "metadata": {},
   "outputs": [],
   "source": []
  },
  {
   "cell_type": "code",
   "execution_count": null,
   "id": "f84adb02-e5b2-4f4e-952a-79f4a01d56d4",
   "metadata": {},
   "outputs": [],
   "source": []
  },
  {
   "cell_type": "markdown",
   "id": "a57a2a4a-6d62-4532-a3c7-3a653cc0fd96",
   "metadata": {},
   "source": [
    "## LLM generation"
   ]
  },
  {
   "cell_type": "code",
   "execution_count": 36,
   "id": "2eda49f8-ba35-4a2a-a037-403b8f898792",
   "metadata": {},
   "outputs": [
    {
     "data": {
      "text/plain": [
       "'sweating'"
      ]
     },
     "execution_count": 36,
     "metadata": {},
     "output_type": "execute_result"
    }
   ],
   "source": [
    "text[1041-1:1049-1]"
   ]
  },
  {
   "cell_type": "code",
   "execution_count": 37,
   "id": "d42323ed-55e7-41d5-9620-907c8a40e27d",
   "metadata": {},
   "outputs": [],
   "source": [
    "from openai import OpenAI\n",
    "from lmformatenforcer import JsonSchemaParser\n",
    "from pydantic import BaseModel\n",
    "import re, json, os\n",
    "from typing import Optional, Type, TypeVar"
   ]
  },
  {
   "cell_type": "code",
   "execution_count": 38,
   "id": "8ca83730-0d19-4c9e-9100-c0696797c582",
   "metadata": {},
   "outputs": [],
   "source": [
    "# Modify OpenAI's API key and API base to use vLLM's API server.\n",
    "openai_api_key = \"EMPTY\"\n",
    "openai_api_base = \"http://host.docker.internal:8000/v1\"\n",
    "client = OpenAI(\n",
    "    api_key=openai_api_key,\n",
    "    base_url=openai_api_base,\n",
    ")"
   ]
  },
  {
   "cell_type": "code",
   "execution_count": 39,
   "id": "dbf01955-fe32-4abd-b900-8e23234ab755",
   "metadata": {},
   "outputs": [
    {
     "name": "stdout",
     "output_type": "stream",
     "text": [
      "Chat response: <think>\n",
      "Okay, so I'm trying to extract the clinical PROBLEM, TEST, and TREATMENT from the given text, along with the time each event happened. Let me start by skimming through the text to understand the context.\n",
      "\n",
      "The text is about a patient admission and hospital course. The admission date is 02/01/2002, and discharge date is 02/08/2002. So the entire stay is about a week.\n",
      "\n",
      "First, looking at the patient's history: she's 77 years old, with obesity and hypertension. Her main complaint is increased shortness of breath for 5 days, with a progressive history over 2-3 years. She also has a dry cough, dyspnea on exertion, and orthopnea (which I think means pain from lying flat). She sleeps upright because of osteoarthritis. She has edema in her legs from several years, which causes lower extremity edema leading to cellulitis in her legs.\n",
      "\n",
      "Her symptoms include: shortness of breath, chest twinges (sharp, on the left side), with no fever, chills, or leg pain. The dyspnea on exertion is progressive. Past medical history includes hypertension, obesity, and osteoarthritis.\n",
      "\n",
      "The physical exam is negative for most systems but shows negative for headaches, vision, numbness, etc. Specifically, the lungs are positive for pulmonary hypertension.\n",
      "\n",
      "Hospital course starts with admission for acute and chronic shortness of breath. She's diag with congestive heart failure, likely from diastolic dysfunction due to hypertension. Pulmonary hypertension is noted. Diuretics like Lasix were given initially, but then stopped when bicarbonate rose.\n",
      "\n",
      "She was started on 20 mg of Ontario p.o. before discharge. Her lipid profile is okay but with elevated D-dimer and possible pulmonary embolus. There were echo findings of ejection fraction 60%, some regurgitation, and a patent foramen ovale. No pulmonary embolus detected.\n",
      "\n",
      "She had dobutamine MIBI showing some perfusion defects, leading the cardiologists to recommend just medical management. She's on Captopril, Lisinopril with a low-dose Bisected Atenolol, and aspirin, plus diuretics and oxygen.\n",
      "\n",
      "Pulmonary team suggested pulmonary function tests but didn't do them. She's on home oxygen with 2 liters.\n",
      "\n",
      "Infectious disease: cellulitis on her legs due to edema, treated initially with cefazolin then Keflex.\n",
      "\n",
      "Hematology: Concerned D-dimer positive, started on anticoagulation. She was on Lovenox increasing to 7.5 mg q day and discharged with Lovenox 1 day, and goal is target INR.\n",
      "\n",
      "Diet: Low salt, low cholesterol diet.\n",
      "\n",
      "Wait, so to extract PROBLEM, TEST, and TREATMENT with timings.\n",
      "\n",
      "First episode: Shortness of breath (PROBLEM). It started 2-3 years ago, became worse with orthopnea, so maybe started around the time of diagnosis. The initial admission is for acute and chronic shortness, so the PROBLEM exists since 5 days, but严重影响了 her life, thus considered acute and chronic.\n",
      "\n",
      "TEST: Initial admission had physical exam for pulmonary hypertension. At hospital, they did a chest X-ray or CT? Nothing mentioned, but they had initial diuretics. Blood work includes D-dimer.\n",
      "\n",
      "TREATMENT from hospital: 20 mg Ontario p.o., then Lovenox 7.5 mg q day. Adjusted other meds.\n",
      "\n",
      "Possible earlier test: Keflex for cellulitis, started after cefazolin.\n",
      "\n",
      "Another test: Blood tests for D-dimer and cholesterol, and lipid panel was done.\n",
      "\n",
      "Also, for the chest CT, it didn't show a pulmonary embolus but was poor.\n",
      "\n",
      "So PROBLEMS: Shortness of breath (progressive since 2-3 years), Edema, Cellulitis, Pulmonary Hypertension, Heart Failure.\n",
      "\n",
      "TESTS: D-dimer, Keflex (post cefazolin), Lasix for diuresis, Echocardiogram, Catecholol ( Ontario ), Dobutamine MIBI, Lovenox, blood pressure meds (Captopril, Lisinopril), Atenolol, Aspirin, Hydrochlorothiazide, Low salt diet.\n",
      "\n",
      "TREATMENTS: Diuretics (拉斯ix), Beta-blockers ( Ontario, Captopril, Aspirin, Atenolol), Anticoagulant (Lovenox), Oxygen therapy, Low cholesterol diet.\n",
      "\n",
      "Timing: Admitted on 02/01, discharged 02/08, so all treatments started pre-discharge, except maybe blood pressure meds being titrated.\n",
      "\n",
      "Wait, how about the initial chest X-ray? They did Echocardiogram for pulmonary hypertension, but no imaging for edema unless the CT showed right common femoral clot perhaps.\n",
      "\n",
      "It's a bit fuzzy. Maybe the CT findings aren't explicitly stated beyond the clot.\n",
      "\n",
      "I think I have a list, but need to structure it properly with dates.\n",
      "</think>\n",
      "\n",
      "**Extracted Clinical Information:**\n",
      "\n",
      "** PROBLEM: Shortness of breath **\n",
      "- **Onset:** 2-3 years ago\n",
      "- **Progression:** worsening with orthopnea\n",
      "- **Timeliness:** Acknowledged as acute and chronic upon admission\n",
      "\n",
      "** TEST: Pulmonary Hypertension, D-dimer positive**\n",
      "- **Setting:** Digital evaluation during hospital care\n",
      "- **Details:** D-dimer >1000, possible pulmonary embolus, initiating anticoagulation\n",
      "\n",
      "** TREATMENT: Medical Management**\n",
      "- **Beta-blockers:**\n",
      "  - Ontario p.o.: 20 mg p.o. q day prior to discharge\n",
      "  - Captopril: C_signed_ Continuing Bisected Atenolol: Bisected Atenolol\n",
      "  - Lisinopril: As prescribed\n",
      "  - Atenolol: Bisected\n",
      "  - Aspirin: Continued\n",
      "  - Hydrochlorothiazide: Continued\n",
      "\n",
      "** TEST: Antibiotic for Cellulitis (Keflex)**\n",
      "- **Onset:** After cefazolin, then changed to Keflex\n",
      "\n",
      "** TEST: Diuretics: Lasix**\n",
      "- **Usage:**lasix 20 mg for diuresis, then stopped due to elevated bicarbonate\n",
      "\n",
      "** TEST: Blood Work**\n",
      "- **Lipid Panel:** Total cholesterol 110, HDL 32, LDL 64, triglycerides 59\n",
      "- **Cholesterol Check:** Low Salt, Low Cholesterol Diet\n",
      "\n",
      "** TEST: Pulmonary Function Studies**\n",
      "- **Details:**announced need for testing, but not performed in-hospital\n",
      "\n",
      "** TEST:itten勿(\"/\")医疗评估**\n",
      "- **Echo:** Ejection Fraction 60%, regurgitation findings\n",
      "- **Chest X-ray/CT:** Shows right common femoral clot, no pulmonary embolus, poor study\n",
      "\n",
      "** TEST: Anticoagulation: Lovenox**\n",
      "- **Dose:**7.5 mg q day prior to discharge, 1 day on discharge\n",
      "\n",
      "** TEST: Hypertension Management: Catechol atm (Ontario)**\n",
      "- **Dose:**20 mg p.o. q day, reinitiated after cefazolin\n",
      "\n",
      "** TEST: Pulmonary hypertension and monitoring: Dobutamine MIBI**\n",
      "- **Findings:**Perfusion defects necessitated medical management only\n",
      "\n",
      "** TEST: Blood Pressure Management: Captopril, Hydrochlorothiazide**\n",
      "- **Continuously titrated**\n",
      "\n",
      "** TEST: Oxygen Therapy: Home Oxygen and Bisected Atenolol**\n",
      "- **Oxygen:** 2 liters nasal cannula\n",
      "\n",
      "** TEST: Diets: Low Salt, Low Cholesterol**\n",
      "- **Details:**Dietary management\n",
      "\n",
      "** Diuresis: Lasix 20 mg**\n",
      "\n",
      "** Pulmonary clot evaluation: Lovenox and Heptate**\n",
      "- **Lovenox:** q day orally, increased to 7.5 mg q day prior to discharge\n",
      "- **Heptate:** In hospital, but raise noted\n",
      "\n",
      "** Electrolytes: None mentioned**\n",
      "\n",
      "**海拔:**\n",
      "\n",
      "** Summary:**\n",
      "\n",
      "- Acute/chronic shortness of breath since 2-3 years, worsening with orthopnea\n",
      "- Pulmonary hypertension diagnosed with Echocardiogram, D-dimer positive\n",
      "- Initiated medications: Ontario, Captopril, Atenolol, Aspirin, Hydrochlorothiazide\n",
      "- Cellular Treatment: Keflex\n",
      "- Anticoagulation: Lovenox adjusted\n",
      "- Diuretics:拉斯ix for initial treatment\n",
      "- Monitoring: Oxygen therapy, blood pressure, diet\n"
     ]
    }
   ],
   "source": [
    "chat_response = client.chat.completions.create(\n",
    "    model = 'deepseek-ai/DeepSeek-R1-Distill-Qwen-7B',\n",
    "    messages=[\n",
    "        {\"role\": \"system\", \"content\": \"You are a helpful assistant.\"},\n",
    "        {\"role\": \"user\", \"content\": \"Extract clinical 'PROBLEM', 'TEST', 'TREATMENT' from the text and estimate the time of each event happened.\" + text},\n",
    "    ]\n",
    ")\n",
    "print(\"Chat response:\", chat_response.choices[0].message.content)"
   ]
  },
  {
   "cell_type": "code",
   "execution_count": 36,
   "id": "b9e894ab-8425-4c90-87a8-0d9f5b3da8c2",
   "metadata": {},
   "outputs": [],
   "source": []
  },
  {
   "cell_type": "code",
   "execution_count": null,
   "id": "fad49573-6101-4684-b68a-0ec91fdbdb71",
   "metadata": {},
   "outputs": [],
   "source": []
  },
  {
   "cell_type": "code",
   "execution_count": null,
   "id": "621b3594-4245-4db9-8fb2-ba582cb58a2e",
   "metadata": {},
   "outputs": [],
   "source": []
  }
 ],
 "metadata": {
  "kernelspec": {
   "display_name": "Python 3 (ipykernel)",
   "language": "python",
   "name": "python3"
  },
  "language_info": {
   "codemirror_mode": {
    "name": "ipython",
    "version": 3
   },
   "file_extension": ".py",
   "mimetype": "text/x-python",
   "name": "python",
   "nbconvert_exporter": "python",
   "pygments_lexer": "ipython3",
   "version": "3.11.6"
  }
 },
 "nbformat": 4,
 "nbformat_minor": 5
}
