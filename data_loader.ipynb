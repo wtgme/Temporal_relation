{
 "cells": [
  {
   "cell_type": "markdown",
   "id": "f5b40ff6",
   "metadata": {},
   "source": [
    "This is old script for export data for classification tasks"
   ]
  },
  {
   "cell_type": "code",
   "execution_count": 2,
   "id": "7f884fa0",
   "metadata": {},
   "outputs": [],
   "source": [
    "import xmltodict, json\n",
    "import os\n",
    "import pandas as pd"
   ]
  },
  {
   "cell_type": "code",
   "execution_count": 3,
   "id": "98af0a52",
   "metadata": {},
   "outputs": [],
   "source": [
    "pd.options.display.max_columns = None"
   ]
  },
  {
   "cell_type": "markdown",
   "id": "9413a1b5",
   "metadata": {},
   "source": [
    "## Load data"
   ]
  },
  {
   "cell_type": "code",
   "execution_count": 7,
   "id": "e7eaff96",
   "metadata": {},
   "outputs": [],
   "source": [
    "# Change to path to the data\n",
    "# path = '/home/wt/Downloads/n2c2 2012/'\n",
    "path = 'data/i2b2/'\n",
    "training_data_path = path + 'merge_training'\n",
    "test_data_path = path + 'ground_truth/merged_xml'"
   ]
  },
  {
   "cell_type": "code",
   "execution_count": 8,
   "id": "a493d642",
   "metadata": {},
   "outputs": [],
   "source": [
    "def data_loader(data_path):\n",
    "    data = {}\n",
    "    for filename in os.listdir(data_path):\n",
    "        if filename.endswith(\".xml\"): \n",
    "            f = (os.path.join(data_path, filename))\n",
    "#             print(f)\n",
    "            fb = open(f, \"rb\").read().decode(encoding=\"utf-8\")\n",
    "#     invalid character '&' https://github.com/martinblech/xmltodict/issues/277\n",
    "            fb = fb.replace('&', '&amp;')\n",
    "            dic = xmltodict.parse(fb, attr_prefix='')\n",
    "#     restore orginal character \"&\"\n",
    "            dic['ClinicalNarrativeTemporalAnnotation']['TEXT'] = dic['ClinicalNarrativeTemporalAnnotation']['TEXT'].replace('&amp;', '&')\n",
    "            data[filename] = (dic)\n",
    "    return data"
   ]
  },
  {
   "cell_type": "code",
   "execution_count": 9,
   "id": "1c585913",
   "metadata": {
    "scrolled": true
   },
   "outputs": [],
   "source": [
    "train_data = data_loader(training_data_path)\n",
    "test_data = data_loader(test_data_path)"
   ]
  },
  {
   "cell_type": "code",
   "execution_count": 10,
   "id": "0956610a-d44b-4bd8-b077-34af045fce1b",
   "metadata": {},
   "outputs": [
    {
     "data": {
      "text/plain": [
       "190"
      ]
     },
     "execution_count": 10,
     "metadata": {},
     "output_type": "execute_result"
    }
   ],
   "source": [
    "len(train_data)"
   ]
  },
  {
   "cell_type": "code",
   "execution_count": 6,
   "id": "2cbdbf68",
   "metadata": {},
   "outputs": [
    {
     "data": {
      "text/plain": [
       "190"
      ]
     },
     "execution_count": 6,
     "metadata": {},
     "output_type": "execute_result"
    }
   ],
   "source": [
    "len(train_data)"
   ]
  },
  {
   "cell_type": "code",
   "execution_count": 11,
   "id": "9fc5f598-95c8-43f3-a170-e9b737eb40e7",
   "metadata": {},
   "outputs": [
    {
     "data": {
      "text/plain": [
       "120"
      ]
     },
     "execution_count": 11,
     "metadata": {},
     "output_type": "execute_result"
    }
   ],
   "source": [
    "len(test_data)"
   ]
  },
  {
   "cell_type": "code",
   "execution_count": 7,
   "id": "a515ac4a",
   "metadata": {},
   "outputs": [
    {
     "data": {
      "text/plain": [
       "120"
      ]
     },
     "execution_count": 7,
     "metadata": {},
     "output_type": "execute_result"
    }
   ],
   "source": [
    "len(test_data)"
   ]
  },
  {
   "cell_type": "code",
   "execution_count": 15,
   "id": "337983b7",
   "metadata": {},
   "outputs": [
    {
     "data": {
      "text/plain": [
       "310"
      ]
     },
     "execution_count": 15,
     "metadata": {},
     "output_type": "execute_result"
    }
   ],
   "source": [
    "len(train_data) + len(test_data)"
   ]
  },
  {
   "cell_type": "markdown",
   "id": "1599f217",
   "metadata": {},
   "source": [
    "## Identify 'sec_time_rel' relations"
   ]
  },
  {
   "cell_type": "code",
   "execution_count": 18,
   "id": "22c81199-9968-4bca-a235-69158e91e68b",
   "metadata": {},
   "outputs": [],
   "source": [
    "# train_data['36.xml']"
   ]
  },
  {
   "cell_type": "code",
   "execution_count": 9,
   "id": "a502bebb",
   "metadata": {
    "scrolled": true
   },
   "outputs": [],
   "source": [
    "def pre_process(data):\n",
    "    text_data = {}\n",
    "    meta_data = []\n",
    "    for doc_id in data.keys():\n",
    "#         print(doc_id)\n",
    "        text = data[doc_id]['ClinicalNarrativeTemporalAnnotation']['TEXT']\n",
    "        text_data[doc_id] = text\n",
    "        events = pd.DataFrame(data[doc_id]['ClinicalNarrativeTemporalAnnotation']['TAGS']['EVENT'])\n",
    "        # adm_dis = pd.DataFrame(data[doc_id]['ClinicalNarrativeTemporalAnnotation']['TAGS']['SECTIME'])\n",
    "        times = pd.DataFrame(data[doc_id]['ClinicalNarrativeTemporalAnnotation']['TAGS']['TIMEX3'])\n",
    "        links = pd.DataFrame(data[doc_id]['ClinicalNarrativeTemporalAnnotation']['TAGS']['TLINK'])\n",
    "\n",
    "#         Focus on \"sec_time_rel\" relations\n",
    "        st_links = links[links['id'].str.lower().str.contains('sectime')]\n",
    "#         print(st_links.shape)\n",
    "        events.columns = [c+\"_EVENT\" for c in events.columns]\n",
    "#         adm_dis.columns = [c+\"_SECTIME\" for c in adm_dis.columns]\n",
    "        st_links.columns = [c+\"_TLINK\" for c in st_links.columns]\n",
    "        times.columns = [c+\"_TIMEX3\" for c in times.columns]\n",
    "\n",
    "#         Join sections together\n",
    "        link_event = st_links.merge(events, left_on='fromID_TLINK', right_on='id_EVENT', how='left')\n",
    "        link_event_sem = link_event.merge(times, left_on='toID_TLINK', right_on='id_TIMEX3', how='left')\n",
    "        # link_event_sem['label'] = link_event_sem['type_TLINK']+'_'+link_event_sem['type_SECTIME']\n",
    "        link_event_sem['doc_id'] = doc_id \n",
    "        # print(link_event_sem.shape)\n",
    "        try:\n",
    "            discharge_date = link_event_sem['val_TIMEX3'].max()\n",
    "        except Exception as e:\n",
    "#             Missing discharge data \n",
    "            print('Unexpected formmat ', doc_id)\n",
    "            link_event_sem['adm_dis_TIMEX3'] = 'ADMISSION'\n",
    "            link_event_sem.loc[link_event_sem['toID_TLINK']=='Discharge', 'adm_dis_TIMEX3'] = 'DISCHARGE'\n",
    "        else:\n",
    "            link_event_sem['adm_dis_TIMEX3'] = 'ADMISSION'\n",
    "            link_event_sem.loc[link_event_sem['val_TIMEX3']==discharge_date, 'adm_dis_TIMEX3'] = 'DISCHARGE'\n",
    "            \n",
    "        meta_data.append(link_event_sem)\n",
    "    labels = pd.concat(meta_data)     \n",
    "    return text_data, labels"
   ]
  },
  {
   "cell_type": "code",
   "execution_count": 10,
   "id": "38b1e36f",
   "metadata": {},
   "outputs": [
    {
     "name": "stdout",
     "output_type": "stream",
     "text": [
      "Unexpected formmat  492.xml\n",
      "Unexpected formmat  666.xml\n",
      "Unexpected formmat  47.xml\n"
     ]
    }
   ],
   "source": [
    "train_data_text, train_data_labels = pre_process(train_data)"
   ]
  },
  {
   "cell_type": "code",
   "execution_count": 11,
   "id": "f77eb917",
   "metadata": {},
   "outputs": [
    {
     "name": "stdout",
     "output_type": "stream",
     "text": [
      "Unexpected formmat  31.xml\n",
      "Unexpected formmat  276.xml\n",
      "Unexpected formmat  781.xml\n"
     ]
    }
   ],
   "source": [
    "test_data_text, test_data_labels = pre_process(test_data)"
   ]
  },
  {
   "cell_type": "code",
   "execution_count": 12,
   "id": "97de934d",
   "metadata": {},
   "outputs": [],
   "source": [
    "def extract_sentence(doc_id, text_data, start_EVENT, end_EVENT):\n",
    "    text = text_data[doc_id]\n",
    "    sent_start = text[0: int(start_EVENT)].rfind('\\n')\n",
    "    sent_end = text[int(end_EVENT)-1::].find('\\n')\n",
    "    sentence = text[sent_start+1:int(end_EVENT)-1 + sent_end]\n",
    "    return sentence"
   ]
  },
  {
   "cell_type": "code",
   "execution_count": 13,
   "id": "709ad929",
   "metadata": {},
   "outputs": [],
   "source": [
    "train_data_labels['sentence'] = train_data_labels.apply(lambda x: extract_sentence(x.doc_id, train_data_text,\n",
    "                                                                                x.start_EVENT, x.end_EVENT), axis=1)"
   ]
  },
  {
   "cell_type": "code",
   "execution_count": 14,
   "id": "ea521b5e",
   "metadata": {},
   "outputs": [],
   "source": [
    "test_data_labels['sentence'] = test_data_labels.apply(lambda x: extract_sentence(x.doc_id, test_data_text,\n",
    "                                                                                x.start_EVENT, x.end_EVENT), axis=1)"
   ]
  },
  {
   "cell_type": "markdown",
   "id": "eba26abd",
   "metadata": {},
   "source": [
    "### Save data"
   ]
  },
  {
   "cell_type": "code",
   "execution_count": 15,
   "id": "074a8393",
   "metadata": {},
   "outputs": [],
   "source": [
    "train_data_labels.to_csv('data/train_sec_time_rel_sentence.csv', index=None)"
   ]
  },
  {
   "cell_type": "code",
   "execution_count": 16,
   "id": "9a2a3e88",
   "metadata": {},
   "outputs": [],
   "source": [
    "test_data_labels.to_csv('data/test_sec_time_rel_sentence.csv', index=None)"
   ]
  },
  {
   "cell_type": "code",
   "execution_count": 17,
   "id": "07c515fd",
   "metadata": {},
   "outputs": [
    {
     "data": {
      "text/html": [
       "<div>\n",
       "<style scoped>\n",
       "    .dataframe tbody tr th:only-of-type {\n",
       "        vertical-align: middle;\n",
       "    }\n",
       "\n",
       "    .dataframe tbody tr th {\n",
       "        vertical-align: top;\n",
       "    }\n",
       "\n",
       "    .dataframe thead th {\n",
       "        text-align: right;\n",
       "    }\n",
       "</style>\n",
       "<table border=\"1\" class=\"dataframe\">\n",
       "  <thead>\n",
       "    <tr style=\"text-align: right;\">\n",
       "      <th></th>\n",
       "      <th>id_TLINK</th>\n",
       "      <th>fromID_TLINK</th>\n",
       "      <th>fromText_TLINK</th>\n",
       "      <th>toID_TLINK</th>\n",
       "      <th>toText_TLINK</th>\n",
       "      <th>type_TLINK</th>\n",
       "      <th>id_EVENT</th>\n",
       "      <th>start_EVENT</th>\n",
       "      <th>end_EVENT</th>\n",
       "      <th>text_EVENT</th>\n",
       "      <th>modality_EVENT</th>\n",
       "      <th>polarity_EVENT</th>\n",
       "      <th>type_EVENT</th>\n",
       "      <th>id_TIMEX3</th>\n",
       "      <th>start_TIMEX3</th>\n",
       "      <th>end_TIMEX3</th>\n",
       "      <th>text_TIMEX3</th>\n",
       "      <th>type_TIMEX3</th>\n",
       "      <th>val_TIMEX3</th>\n",
       "      <th>mod_TIMEX3</th>\n",
       "      <th>doc_id</th>\n",
       "      <th>adm_dis_TIMEX3</th>\n",
       "      <th>sentence</th>\n",
       "    </tr>\n",
       "  </thead>\n",
       "  <tbody>\n",
       "    <tr>\n",
       "      <th>0</th>\n",
       "      <td>Sectime0</td>\n",
       "      <td>E14</td>\n",
       "      <td>cardiac catheterization</td>\n",
       "      <td>T2</td>\n",
       "      <td>2017-07-02</td>\n",
       "      <td>BEFORE</td>\n",
       "      <td>E14</td>\n",
       "      <td>1004</td>\n",
       "      <td>1027</td>\n",
       "      <td>cardiac catheterization</td>\n",
       "      <td>FACTUAL</td>\n",
       "      <td>POS</td>\n",
       "      <td>TEST</td>\n",
       "      <td>T2</td>\n",
       "      <td>46</td>\n",
       "      <td>56</td>\n",
       "      <td>2017-07-02</td>\n",
       "      <td>DATE</td>\n",
       "      <td>2017-07-02</td>\n",
       "      <td>NA</td>\n",
       "      <td>212.xml</td>\n",
       "      <td>DISCHARGE</td>\n",
       "      <td>The patient was found at cardiac catheterizati...</td>\n",
       "    </tr>\n",
       "    <tr>\n",
       "      <th>1</th>\n",
       "      <td>Sectime1</td>\n",
       "      <td>E15</td>\n",
       "      <td>mild diffuse instent restenosis in the mid stent</td>\n",
       "      <td>T2</td>\n",
       "      <td>2017-07-02</td>\n",
       "      <td>BEFORE</td>\n",
       "      <td>E15</td>\n",
       "      <td>1036</td>\n",
       "      <td>1084</td>\n",
       "      <td>mild diffuse instent restenosis in the mid stent</td>\n",
       "      <td>FACTUAL</td>\n",
       "      <td>POS</td>\n",
       "      <td>PROBLEM</td>\n",
       "      <td>T2</td>\n",
       "      <td>46</td>\n",
       "      <td>56</td>\n",
       "      <td>2017-07-02</td>\n",
       "      <td>DATE</td>\n",
       "      <td>2017-07-02</td>\n",
       "      <td>NA</td>\n",
       "      <td>212.xml</td>\n",
       "      <td>DISCHARGE</td>\n",
       "      <td>The patient was found at cardiac catheterizati...</td>\n",
       "    </tr>\n",
       "    <tr>\n",
       "      <th>2</th>\n",
       "      <td>Sectime2</td>\n",
       "      <td>E46</td>\n",
       "      <td>hemodynamically normal</td>\n",
       "      <td>T2</td>\n",
       "      <td>2017-07-02</td>\n",
       "      <td>BEFORE</td>\n",
       "      <td>E46</td>\n",
       "      <td>1097</td>\n",
       "      <td>1119</td>\n",
       "      <td>hemodynamically normal</td>\n",
       "      <td>FACTUAL</td>\n",
       "      <td>POS</td>\n",
       "      <td>OCCURRENCE</td>\n",
       "      <td>T2</td>\n",
       "      <td>46</td>\n",
       "      <td>56</td>\n",
       "      <td>2017-07-02</td>\n",
       "      <td>DATE</td>\n",
       "      <td>2017-07-02</td>\n",
       "      <td>NA</td>\n",
       "      <td>212.xml</td>\n",
       "      <td>DISCHARGE</td>\n",
       "      <td>The patient was found at cardiac catheterizati...</td>\n",
       "    </tr>\n",
       "    <tr>\n",
       "      <th>3</th>\n",
       "      <td>Sectime3</td>\n",
       "      <td>E16</td>\n",
       "      <td>flow-limiting stenoses</td>\n",
       "      <td>T2</td>\n",
       "      <td>2017-07-02</td>\n",
       "      <td>BEFORE</td>\n",
       "      <td>E16</td>\n",
       "      <td>1169</td>\n",
       "      <td>1191</td>\n",
       "      <td>flow-limiting stenoses</td>\n",
       "      <td>FACTUAL</td>\n",
       "      <td>NEG</td>\n",
       "      <td>PROBLEM</td>\n",
       "      <td>T2</td>\n",
       "      <td>46</td>\n",
       "      <td>56</td>\n",
       "      <td>2017-07-02</td>\n",
       "      <td>DATE</td>\n",
       "      <td>2017-07-02</td>\n",
       "      <td>NA</td>\n",
       "      <td>212.xml</td>\n",
       "      <td>DISCHARGE</td>\n",
       "      <td>The patient was found at cardiac catheterizati...</td>\n",
       "    </tr>\n",
       "    <tr>\n",
       "      <th>4</th>\n",
       "      <td>Sectime4</td>\n",
       "      <td>E17</td>\n",
       "      <td>her cardiac medications</td>\n",
       "      <td>T2</td>\n",
       "      <td>2017-07-02</td>\n",
       "      <td>BEFORE_OVERLAP</td>\n",
       "      <td>E17</td>\n",
       "      <td>1228</td>\n",
       "      <td>1251</td>\n",
       "      <td>her cardiac medications</td>\n",
       "      <td>FACTUAL</td>\n",
       "      <td>POS</td>\n",
       "      <td>TREATMENT</td>\n",
       "      <td>T2</td>\n",
       "      <td>46</td>\n",
       "      <td>56</td>\n",
       "      <td>2017-07-02</td>\n",
       "      <td>DATE</td>\n",
       "      <td>2017-07-02</td>\n",
       "      <td>NA</td>\n",
       "      <td>212.xml</td>\n",
       "      <td>DISCHARGE</td>\n",
       "      <td>The patient was then continued on her cardiac ...</td>\n",
       "    </tr>\n",
       "  </tbody>\n",
       "</table>\n",
       "</div>"
      ],
      "text/plain": [
       "   id_TLINK fromID_TLINK                                    fromText_TLINK  \\\n",
       "0  Sectime0          E14                           cardiac catheterization   \n",
       "1  Sectime1          E15  mild diffuse instent restenosis in the mid stent   \n",
       "2  Sectime2          E46                            hemodynamically normal   \n",
       "3  Sectime3          E16                            flow-limiting stenoses   \n",
       "4  Sectime4          E17                           her cardiac medications   \n",
       "\n",
       "  toID_TLINK toText_TLINK      type_TLINK id_EVENT start_EVENT end_EVENT  \\\n",
       "0         T2   2017-07-02          BEFORE      E14        1004      1027   \n",
       "1         T2   2017-07-02          BEFORE      E15        1036      1084   \n",
       "2         T2   2017-07-02          BEFORE      E46        1097      1119   \n",
       "3         T2   2017-07-02          BEFORE      E16        1169      1191   \n",
       "4         T2   2017-07-02  BEFORE_OVERLAP      E17        1228      1251   \n",
       "\n",
       "                                         text_EVENT modality_EVENT  \\\n",
       "0                           cardiac catheterization        FACTUAL   \n",
       "1  mild diffuse instent restenosis in the mid stent        FACTUAL   \n",
       "2                            hemodynamically normal        FACTUAL   \n",
       "3                            flow-limiting stenoses        FACTUAL   \n",
       "4                           her cardiac medications        FACTUAL   \n",
       "\n",
       "  polarity_EVENT  type_EVENT id_TIMEX3 start_TIMEX3 end_TIMEX3 text_TIMEX3  \\\n",
       "0            POS        TEST        T2           46         56  2017-07-02   \n",
       "1            POS     PROBLEM        T2           46         56  2017-07-02   \n",
       "2            POS  OCCURRENCE        T2           46         56  2017-07-02   \n",
       "3            NEG     PROBLEM        T2           46         56  2017-07-02   \n",
       "4            POS   TREATMENT        T2           46         56  2017-07-02   \n",
       "\n",
       "  type_TIMEX3  val_TIMEX3 mod_TIMEX3   doc_id adm_dis_TIMEX3  \\\n",
       "0        DATE  2017-07-02         NA  212.xml      DISCHARGE   \n",
       "1        DATE  2017-07-02         NA  212.xml      DISCHARGE   \n",
       "2        DATE  2017-07-02         NA  212.xml      DISCHARGE   \n",
       "3        DATE  2017-07-02         NA  212.xml      DISCHARGE   \n",
       "4        DATE  2017-07-02         NA  212.xml      DISCHARGE   \n",
       "\n",
       "                                            sentence  \n",
       "0  The patient was found at cardiac catheterizati...  \n",
       "1  The patient was found at cardiac catheterizati...  \n",
       "2  The patient was found at cardiac catheterizati...  \n",
       "3  The patient was found at cardiac catheterizati...  \n",
       "4  The patient was then continued on her cardiac ...  "
      ]
     },
     "execution_count": 17,
     "metadata": {},
     "output_type": "execute_result"
    }
   ],
   "source": [
    "train_data_labels.head()"
   ]
  },
  {
   "cell_type": "code",
   "execution_count": null,
   "id": "48ccb661",
   "metadata": {},
   "outputs": [],
   "source": []
  },
  {
   "cell_type": "code",
   "execution_count": 18,
   "id": "229c34f2",
   "metadata": {},
   "outputs": [],
   "source": [
    "pd.DataFrame(train_data_text.items(), columns=['doc_id', 'text']).to_csv('data/train_text.csv', index=None)"
   ]
  },
  {
   "cell_type": "code",
   "execution_count": 19,
   "id": "9eac3efc",
   "metadata": {},
   "outputs": [],
   "source": [
    "pd.DataFrame(test_data_text.items(), columns=['doc_id', 'text']).to_csv('data/test_text.csv', index=None)"
   ]
  },
  {
   "cell_type": "code",
   "execution_count": null,
   "id": "545fadb8",
   "metadata": {},
   "outputs": [],
   "source": []
  },
  {
   "cell_type": "code",
   "execution_count": null,
   "id": "9c917c21",
   "metadata": {},
   "outputs": [],
   "source": []
  },
  {
   "cell_type": "code",
   "execution_count": null,
   "id": "24a756cc",
   "metadata": {},
   "outputs": [],
   "source": []
  },
  {
   "cell_type": "code",
   "execution_count": null,
   "id": "485e1d18",
   "metadata": {},
   "outputs": [],
   "source": []
  },
  {
   "cell_type": "code",
   "execution_count": null,
   "id": "149d32c8",
   "metadata": {},
   "outputs": [],
   "source": []
  }
 ],
 "metadata": {
  "kernelspec": {
   "display_name": "cuhk",
   "language": "python",
   "name": "cuhk"
  },
  "language_info": {
   "codemirror_mode": {
    "name": "ipython",
    "version": 3
   },
   "file_extension": ".py",
   "mimetype": "text/x-python",
   "name": "python",
   "nbconvert_exporter": "python",
   "pygments_lexer": "ipython3",
   "version": "3.10.16"
  }
 },
 "nbformat": 4,
 "nbformat_minor": 5
}
